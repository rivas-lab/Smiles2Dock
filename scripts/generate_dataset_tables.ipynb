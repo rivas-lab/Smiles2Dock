{
 "cells": [
  {
   "cell_type": "code",
   "execution_count": 1,
   "id": "ac904366-157b-47ea-bd2b-4e8e5db8bf70",
   "metadata": {},
   "outputs": [],
   "source": [
    "import pandas as pd"
   ]
  },
  {
   "cell_type": "code",
   "execution_count": 2,
   "id": "14d3dbd2-2d7d-4d69-aae8-a4e058caadf1",
   "metadata": {},
   "outputs": [],
   "source": [
    "train = pd.read_csv('datasets/smiles2dock_train.csv')\n",
    "test  = pd.read_csv('datasets/smiles2dock_test.csv')\n",
    "val   = pd.read_csv('datasets/smiles2dock_val.csv')"
   ]
  },
  {
   "cell_type": "code",
   "execution_count": 4,
   "id": "52a554dd-7299-4380-99fd-8106f94df800",
   "metadata": {},
   "outputs": [
    {
     "data": {
      "text/html": [
       "<div>\n",
       "<style scoped>\n",
       "    .dataframe tbody tr th:only-of-type {\n",
       "        vertical-align: middle;\n",
       "    }\n",
       "\n",
       "    .dataframe tbody tr th {\n",
       "        vertical-align: top;\n",
       "    }\n",
       "\n",
       "    .dataframe thead th {\n",
       "        text-align: right;\n",
       "    }\n",
       "</style>\n",
       "<table border=\"1\" class=\"dataframe\">\n",
       "  <thead>\n",
       "    <tr style=\"text-align: right;\">\n",
       "      <th></th>\n",
       "      <th>ligand</th>\n",
       "      <th>protein</th>\n",
       "      <th>score1</th>\n",
       "    </tr>\n",
       "  </thead>\n",
       "  <tbody>\n",
       "    <tr>\n",
       "      <th>0</th>\n",
       "      <td>CHEMBL4165409</td>\n",
       "      <td>dpp4</td>\n",
       "      <td>-6.681</td>\n",
       "    </tr>\n",
       "    <tr>\n",
       "      <th>1</th>\n",
       "      <td>CHEMBL5012345</td>\n",
       "      <td>map3k15</td>\n",
       "      <td>-6.266</td>\n",
       "    </tr>\n",
       "    <tr>\n",
       "      <th>2</th>\n",
       "      <td>CHEMBL4209181</td>\n",
       "      <td>scn10a</td>\n",
       "      <td>-7.041</td>\n",
       "    </tr>\n",
       "    <tr>\n",
       "      <th>3</th>\n",
       "      <td>CHEMBL4594123</td>\n",
       "      <td>scn9a</td>\n",
       "      <td>-5.366</td>\n",
       "    </tr>\n",
       "    <tr>\n",
       "      <th>4</th>\n",
       "      <td>CHEMBL1559636</td>\n",
       "      <td>adcy5</td>\n",
       "      <td>-3.259</td>\n",
       "    </tr>\n",
       "    <tr>\n",
       "      <th>...</th>\n",
       "      <td>...</td>\n",
       "      <td>...</td>\n",
       "      <td>...</td>\n",
       "    </tr>\n",
       "    <tr>\n",
       "      <th>11977521</th>\n",
       "      <td>CHEMBL1375008</td>\n",
       "      <td>scn10a</td>\n",
       "      <td>-6.729</td>\n",
       "    </tr>\n",
       "    <tr>\n",
       "      <th>11977522</th>\n",
       "      <td>CHEMBL297168</td>\n",
       "      <td>scn10a</td>\n",
       "      <td>-3.061</td>\n",
       "    </tr>\n",
       "    <tr>\n",
       "      <th>11977523</th>\n",
       "      <td>CHEMBL3184097</td>\n",
       "      <td>gpr75</td>\n",
       "      <td>-8.563</td>\n",
       "    </tr>\n",
       "    <tr>\n",
       "      <th>11977524</th>\n",
       "      <td>CHEMBL1602012</td>\n",
       "      <td>scn9a</td>\n",
       "      <td>-9.391</td>\n",
       "    </tr>\n",
       "    <tr>\n",
       "      <th>11977525</th>\n",
       "      <td>CHEMBL3236139</td>\n",
       "      <td>tyk2</td>\n",
       "      <td>-5.033</td>\n",
       "    </tr>\n",
       "  </tbody>\n",
       "</table>\n",
       "<p>11977526 rows × 3 columns</p>\n",
       "</div>"
      ],
      "text/plain": [
       "                 ligand  protein  score1\n",
       "0         CHEMBL4165409     dpp4  -6.681\n",
       "1         CHEMBL5012345  map3k15  -6.266\n",
       "2         CHEMBL4209181   scn10a  -7.041\n",
       "3         CHEMBL4594123    scn9a  -5.366\n",
       "4         CHEMBL1559636    adcy5  -3.259\n",
       "...                 ...      ...     ...\n",
       "11977521  CHEMBL1375008   scn10a  -6.729\n",
       "11977522   CHEMBL297168   scn10a  -3.061\n",
       "11977523  CHEMBL3184097    gpr75  -8.563\n",
       "11977524  CHEMBL1602012    scn9a  -9.391\n",
       "11977525  CHEMBL3236139     tyk2  -5.033\n",
       "\n",
       "[11977526 rows x 3 columns]"
      ]
     },
     "execution_count": 4,
     "metadata": {},
     "output_type": "execute_result"
    }
   ],
   "source": [
    "train"
   ]
  },
  {
   "cell_type": "code",
   "execution_count": 6,
   "id": "3120e227-bec0-4e1c-80eb-05decd4e6179",
   "metadata": {},
   "outputs": [],
   "source": [
    "def categorize_score_based_on_sigma(score, mean, sigma):\n",
    "    \"\"\"\n",
    "    Categorizes the score with 'Medium' split into 'Medium+' and 'Medium-',\n",
    "    and 'Very Strong' and 'Very Weak' for scores beyond ±2 sigma of the mean.\n",
    "    \n",
    "    Parameters:\n",
    "    - score: The docking score to categorize.\n",
    "    - mean: Mean of the docking scores.\n",
    "    - sigma: Standard deviation of the docking scores.\n",
    "    \n",
    "    Returns:\n",
    "    - Category of the score based on sigma.\n",
    "    \"\"\"\n",
    "    if score <= mean - 2*sigma:\n",
    "        return 'Very Strong'\n",
    "    elif score <= mean - sigma:\n",
    "        return 'Strong'\n",
    "    elif score < mean:\n",
    "        return 'Medium+'\n",
    "    elif score < mean + sigma:\n",
    "        return 'Medium-'\n",
    "    elif score < mean + 2*sigma:\n",
    "        return 'Weak'\n",
    "    else:\n",
    "        return 'Very Weak'"
   ]
  },
  {
   "cell_type": "code",
   "execution_count": 8,
   "id": "1856cdf6-6392-4821-8d70-5cba8a823511",
   "metadata": {},
   "outputs": [
    {
     "name": "stdout",
     "output_type": "stream",
     "text": [
      "category\n",
      "Medium+        6762625\n",
      "Medium-        4849468\n",
      "Weak            149022\n",
      "Very Weak       139964\n",
      "Strong           75562\n",
      "Very Strong        885\n",
      "Name: count, dtype: int64\n"
     ]
    }
   ],
   "source": [
    "# Calculate mean and standard deviation\n",
    "mean  = train['score1'].mean()\n",
    "sigma = train['score1'].std()\n",
    "\n",
    "# Categorize scores\n",
    "train['category'] = train['score1'].apply(lambda x: categorize_score_based_on_sigma(x, mean, sigma))\n",
    "# Count the number of scores in each category\n",
    "category_counts_train = train['category'].value_counts()\n",
    "\n",
    "# Print the results\n",
    "print(category_counts_train)"
   ]
  },
  {
   "cell_type": "code",
   "execution_count": 10,
   "id": "29b08b70-6755-427f-9082-d3e092b08b63",
   "metadata": {},
   "outputs": [],
   "source": [
    "def get_category_count(df):\n",
    "    mean  = df['score1'].mean()\n",
    "    sigma = df['score1'].std()\n",
    "\n",
    "    # Categorize scores\n",
    "    df['category'] = df['score1'].apply(lambda x: categorize_score_based_on_sigma(x, mean, sigma))\n",
    "    \n",
    "    # Count the number of scores in each category\n",
    "    category_counts = df['category'].value_counts()\n",
    "\n",
    "    return category_counts"
   ]
  },
  {
   "cell_type": "code",
   "execution_count": 11,
   "id": "8e62b59b-43f4-4510-94f7-109674e0d02b",
   "metadata": {},
   "outputs": [],
   "source": [
    "category_counts_train = get_category_count(train)\n",
    "category_counts_test  = get_category_count(test)\n",
    "category_counts_val   = get_category_count(val)"
   ]
  },
  {
   "cell_type": "code",
   "execution_count": 17,
   "id": "3451e02a-6b20-4854-8530-d4613ed63911",
   "metadata": {},
   "outputs": [
    {
     "name": "stdout",
     "output_type": "stream",
     "text": [
      "\\begin{tabular}{lrrr}\n",
      "\\toprule\n",
      " & Train & Test & Validation \\\\\n",
      "category &  &  &  \\\\\n",
      "\\midrule\n",
      "Very Strong & 885 & 184 & 209 \\\\\n",
      "Strong & 75562 & 14944 & 15470 \\\\\n",
      "Medium+ & 6762625 & 962654 & 1940959 \\\\\n",
      "Medium- & 4849468 & 689325 & 1387228 \\\\\n",
      "Weak & 149022 & 22607 & 40578 \\\\\n",
      "Very Weak & 139964 & 21362 & 37706 \\\\\n",
      "\\bottomrule\n",
      "\\end{tabular}\n",
      "\n"
     ]
    }
   ],
   "source": [
    "# Ensure all categories are present in each series\n",
    "all_categories = ['Very Strong', 'Strong', 'Medium+', 'Medium-', 'Weak', 'Very Weak']  # Add any missing categories\n",
    "\n",
    "train_counts = category_counts_train.reindex(all_categories, fill_value=0)\n",
    "test_counts  = category_counts_test.reindex(all_categories,  fill_value=0)\n",
    "val_counts   = category_counts_val.reindex(all_categories,   fill_value=0)\n",
    "\n",
    "counts_df = pd.DataFrame({\n",
    "    'Train': train_counts,\n",
    "    'Test': test_counts,\n",
    "    'Validation': val_counts\n",
    "})\n",
    "\n",
    "latex_table = counts_df.to_latex()\n",
    "print(latex_table)"
   ]
  },
  {
   "cell_type": "code",
   "execution_count": null,
   "id": "e603f6f2-07e7-4e65-9890-adc3c27dc595",
   "metadata": {},
   "outputs": [],
   "source": []
  }
 ],
 "metadata": {
  "kernelspec": {
   "display_name": "docking",
   "language": "python",
   "name": "docking"
  },
  "language_info": {
   "codemirror_mode": {
    "name": "ipython",
    "version": 3
   },
   "file_extension": ".py",
   "mimetype": "text/x-python",
   "name": "python",
   "nbconvert_exporter": "python",
   "pygments_lexer": "ipython3",
   "version": "3.10.13"
  }
 },
 "nbformat": 4,
 "nbformat_minor": 5
}
