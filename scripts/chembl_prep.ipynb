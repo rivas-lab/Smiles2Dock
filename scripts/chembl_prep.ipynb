{
 "cells": [
  {
   "cell_type": "code",
   "execution_count": 1,
   "metadata": {},
   "outputs": [],
   "source": [
    "import pandas as pd\n",
    "import os"
   ]
  },
  {
   "cell_type": "code",
   "execution_count": 2,
   "metadata": {},
   "outputs": [],
   "source": [
    "def split_and_save_file(filepath, output_root_dir, split_size=1000, filename_prefix=\"subfile\"):\n",
    "    \"\"\"\n",
    "    Split the file at 'filepath' into smaller files of 'split_size' rows each,\n",
    "    save them in directories within 'output_root_dir'.\n",
    "    \n",
    "    Args:\n",
    "    - filepath: Path to the input file.\n",
    "    - output_root_dir: The root directory where subdirectories will be created.\n",
    "    - split_size: Number of rows per split. Default is 1000.\n",
    "    - filename_prefix: Prefix for the output file names.\n",
    "    \"\"\"\n",
    "    \n",
    "    count = 0\n",
    "    \n",
    "    data = pd.read_table(filepath, sep='\\t')\n",
    "    print('Read the file...')\n",
    "    \n",
    "    num_splits = len(data) // split_size + (1 if len(data) % split_size != 0 else 0)\n",
    "    \n",
    "    if not os.path.exists(output_root_dir):\n",
    "        os.makedirs(output_root_dir)\n",
    "        print(f\"Created root directory: {output_root_dir}\")\n",
    "    \n",
    "    for i in range(num_splits):\n",
    "        count += 1\n",
    "        start_idx = i * split_size\n",
    "        end_idx   = min((i + 1) * split_size, len(data))\n",
    "        sub_data  = data.iloc[start_idx:end_idx]\n",
    "        \n",
    "        dir_name  = os.path.join(output_root_dir, f\"{filename_prefix}_dir_{i + 1}\")\n",
    "        file_name = f\"{filename_prefix}_from_{start_idx}_to_{end_idx - 1}.txt\"\n",
    "        full_path = os.path.join(dir_name, file_name)\n",
    "        \n",
    "        if not os.path.exists(dir_name):\n",
    "            os.makedirs(dir_name)\n",
    "        \n",
    "        sub_data.to_csv(full_path, sep='\\t', index=False)\n",
    "        \n",
    "        if (count % 100 == 0):\n",
    "            print(f\"File saved: {full_path}\")"
   ]
  },
  {
   "cell_type": "code",
   "execution_count": 3,
   "metadata": {},
   "outputs": [],
   "source": [
    "filepath        = 'data/chembl/chembl_33_chemreps.txt'  \n",
    "output_root_dir = './input'  "
   ]
  },
  {
   "cell_type": "code",
   "execution_count": 4,
   "metadata": {},
   "outputs": [],
   "source": [
    "data = pd.read_table(filepath, sep='\\t')"
   ]
  },
  {
   "cell_type": "code",
   "execution_count": 5,
   "metadata": {},
   "outputs": [
    {
     "data": {
      "text/plain": [
       "2372674"
      ]
     },
     "execution_count": 5,
     "metadata": {},
     "output_type": "execute_result"
    }
   ],
   "source": [
    "len(data)"
   ]
  },
  {
   "cell_type": "code",
   "execution_count": 6,
   "metadata": {},
   "outputs": [
    {
     "name": "stdout",
     "output_type": "stream",
     "text": [
      "Read the file...\n",
      "Created root directory: ./input\n",
      "File saved: ./input/chembl_split_dir_100/chembl_split_from_117513_to_118699.txt\n",
      "File saved: ./input/chembl_split_dir_200/chembl_split_from_236213_to_237399.txt\n",
      "File saved: ./input/chembl_split_dir_300/chembl_split_from_354913_to_356099.txt\n",
      "File saved: ./input/chembl_split_dir_400/chembl_split_from_473613_to_474799.txt\n",
      "File saved: ./input/chembl_split_dir_500/chembl_split_from_592313_to_593499.txt\n",
      "File saved: ./input/chembl_split_dir_600/chembl_split_from_711013_to_712199.txt\n",
      "File saved: ./input/chembl_split_dir_700/chembl_split_from_829713_to_830899.txt\n",
      "File saved: ./input/chembl_split_dir_800/chembl_split_from_948413_to_949599.txt\n",
      "File saved: ./input/chembl_split_dir_900/chembl_split_from_1067113_to_1068299.txt\n",
      "File saved: ./input/chembl_split_dir_1000/chembl_split_from_1185813_to_1186999.txt\n",
      "File saved: ./input/chembl_split_dir_1100/chembl_split_from_1304513_to_1305699.txt\n",
      "File saved: ./input/chembl_split_dir_1200/chembl_split_from_1423213_to_1424399.txt\n",
      "File saved: ./input/chembl_split_dir_1300/chembl_split_from_1541913_to_1543099.txt\n",
      "File saved: ./input/chembl_split_dir_1400/chembl_split_from_1660613_to_1661799.txt\n",
      "File saved: ./input/chembl_split_dir_1500/chembl_split_from_1779313_to_1780499.txt\n",
      "File saved: ./input/chembl_split_dir_1600/chembl_split_from_1898013_to_1899199.txt\n",
      "File saved: ./input/chembl_split_dir_1700/chembl_split_from_2016713_to_2017899.txt\n",
      "File saved: ./input/chembl_split_dir_1800/chembl_split_from_2135413_to_2136599.txt\n",
      "File saved: ./input/chembl_split_dir_1900/chembl_split_from_2254113_to_2255299.txt\n",
      "CPU times: user 29.6 s, sys: 2.35 s, total: 31.9 s\n",
      "Wall time: 37.5 s\n"
     ]
    }
   ],
   "source": [
    "%%time\n",
    "\n",
    "split_and_save_file(filepath, output_root_dir, split_size=1187, filename_prefix=\"chembl_split\")"
   ]
  },
  {
   "cell_type": "code",
   "execution_count": null,
   "metadata": {},
   "outputs": [],
   "source": []
  }
 ],
 "metadata": {
  "kernelspec": {
   "display_name": "chem",
   "language": "python",
   "name": "chem"
  },
  "language_info": {
   "codemirror_mode": {
    "name": "ipython",
    "version": 3
   },
   "file_extension": ".py",
   "mimetype": "text/x-python",
   "name": "python",
   "nbconvert_exporter": "python",
   "pygments_lexer": "ipython3",
   "version": "3.10.13"
  }
 },
 "nbformat": 4,
 "nbformat_minor": 4
}
