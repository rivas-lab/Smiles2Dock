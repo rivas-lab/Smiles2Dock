{
 "cells": [
  {
   "cell_type": "code",
   "execution_count": 1,
   "metadata": {},
   "outputs": [
    {
     "name": "stderr",
     "output_type": "stream",
     "text": [
      "/tmp/ipykernel_203805/4215457550.py:2: DeprecationWarning: \n",
      "Pyarrow will become a required dependency of pandas in the next major release of pandas (pandas 3.0),\n",
      "(to allow more performant data types, such as the Arrow string type, and better interoperability with other libraries)\n",
      "but was not found to be installed on your system.\n",
      "If this would cause problems for you,\n",
      "please provide us feedback at https://github.com/pandas-dev/pandas/issues/54466\n",
      "        \n",
      "  import pandas as pd\n",
      "Skipped loading some Tensorflow models, missing a dependency. No module named 'tensorflow'\n",
      "Skipped loading some PyTorch models, missing a dependency. No module named 'torch'\n",
      "Skipped loading modules with pytorch-geometric dependency, missing a dependency. No module named 'torch'\n",
      "Skipped loading modules with pytorch-lightning dependency, missing a dependency. No module named 'torch'\n",
      "Skipped loading some Jax models, missing a dependency. No module named 'jax'\n"
     ]
    }
   ],
   "source": [
    "import numpy as np\n",
    "import pandas as pd\n",
    "import deepchem as dc\n",
    "import os\n",
    "import json\n",
    "\n",
    "from deepchem.utils.docking_utils import prepare_inputs\n",
    "from openmm.app                   import PDBFile\n",
    "from pdbfixer                     import PDBFixer\n",
    "from rdkit                        import Chem\n",
    "from rdkit.Chem                   import AllChem\n",
    "\n",
    "from p2rank_pocket_finder import P2RankPocketFinder"
   ]
  },
  {
   "cell_type": "code",
   "execution_count": 2,
   "metadata": {},
   "outputs": [],
   "source": [
    "chembl = pd.read_table('data/chembl/chembl_33_chemreps.txt', sep='\\t')"
   ]
  },
  {
   "cell_type": "code",
   "execution_count": 16,
   "metadata": {},
   "outputs": [
    {
     "data": {
      "text/html": [
       "<div>\n",
       "<style scoped>\n",
       "    .dataframe tbody tr th:only-of-type {\n",
       "        vertical-align: middle;\n",
       "    }\n",
       "\n",
       "    .dataframe tbody tr th {\n",
       "        vertical-align: top;\n",
       "    }\n",
       "\n",
       "    .dataframe thead th {\n",
       "        text-align: right;\n",
       "    }\n",
       "</style>\n",
       "<table border=\"1\" class=\"dataframe\">\n",
       "  <thead>\n",
       "    <tr style=\"text-align: right;\">\n",
       "      <th></th>\n",
       "      <th>chembl_id</th>\n",
       "      <th>canonical_smiles</th>\n",
       "      <th>standard_inchi</th>\n",
       "      <th>standard_inchi_key</th>\n",
       "    </tr>\n",
       "  </thead>\n",
       "  <tbody>\n",
       "    <tr>\n",
       "      <th>0</th>\n",
       "      <td>CHEMBL153534</td>\n",
       "      <td>Cc1cc(-c2csc(N=C(N)N)n2)cn1C</td>\n",
       "      <td>InChI=1S/C10H13N5S/c1-6-3-7(4-15(6)2)8-5-16-10...</td>\n",
       "      <td>MFRNFCWYPYSFQQ-UHFFFAOYSA-N</td>\n",
       "    </tr>\n",
       "    <tr>\n",
       "      <th>1</th>\n",
       "      <td>CHEMBL440060</td>\n",
       "      <td>CC[C@H](C)[C@H](NC(=O)[C@H](CC(C)C)NC(=O)[C@@H...</td>\n",
       "      <td>InChI=1S/C123H212N44O34S/c1-19-63(12)96(164-11...</td>\n",
       "      <td>RSEQNZQKBMRQNM-VRGFNVLHSA-N</td>\n",
       "    </tr>\n",
       "    <tr>\n",
       "      <th>2</th>\n",
       "      <td>CHEMBL440245</td>\n",
       "      <td>CCCC[C@@H]1NC(=O)[C@@H](NC(=O)[C@H](CC(C)C)NC(...</td>\n",
       "      <td>InChI=1S/C160H268N50O41/c1-23-27-41-95-134(228...</td>\n",
       "      <td>FTKBTEIKPOYCEX-OZSLQWTKSA-N</td>\n",
       "    </tr>\n",
       "    <tr>\n",
       "      <th>3</th>\n",
       "      <td>CHEMBL440249</td>\n",
       "      <td>CC(C)C[C@@H]1NC(=O)CNC(=O)[C@H](c2ccc(O)cc2)NC...</td>\n",
       "      <td>InChI=1S/C124H154ClN21O39/c1-57(2)48-81-112(17...</td>\n",
       "      <td>UYSXXKGACMHPIM-KFGDMSGDSA-N</td>\n",
       "    </tr>\n",
       "    <tr>\n",
       "      <th>4</th>\n",
       "      <td>CHEMBL405398</td>\n",
       "      <td>Brc1cccc(Nc2ncnc3ccncc23)c1NCCN1CCOCC1</td>\n",
       "      <td>InChI=1S/C19H21BrN6O/c20-15-2-1-3-17(18(15)22-...</td>\n",
       "      <td>VDSXZXJEWIWBCG-UHFFFAOYSA-N</td>\n",
       "    </tr>\n",
       "    <tr>\n",
       "      <th>...</th>\n",
       "      <td>...</td>\n",
       "      <td>...</td>\n",
       "      <td>...</td>\n",
       "      <td>...</td>\n",
       "    </tr>\n",
       "    <tr>\n",
       "      <th>2372669</th>\n",
       "      <td>CHEMBL4298696</td>\n",
       "      <td>CCCCCCCCCCCCCCCCCCPCCCCCCCCCCCCCC.F[PH](F)(F)(...</td>\n",
       "      <td>InChI=1S/C32H67P.F6HP/c1-3-5-7-9-11-13-15-17-1...</td>\n",
       "      <td>ZAKUDCIPPLAGQL-UHFFFAOYSA-N</td>\n",
       "    </tr>\n",
       "    <tr>\n",
       "      <th>2372670</th>\n",
       "      <td>CHEMBL4298698</td>\n",
       "      <td>C[n+]1cn([C@@H]2O[C@H](CO[P@@](=O)(S)OP(=O)([O...</td>\n",
       "      <td>InChI=1S/C11H18N5O13P3S/c1-15-3-16(8-5(15)9(19...</td>\n",
       "      <td>OTIKKVINVWNBOQ-LDJOHHLFSA-N</td>\n",
       "    </tr>\n",
       "    <tr>\n",
       "      <th>2372671</th>\n",
       "      <td>CHEMBL4298702</td>\n",
       "      <td>c1ccc(C2CC(C3CC(c4ccccc4)OC(c4ccccc4)C3)CC(c3c...</td>\n",
       "      <td>InChI=1S/C34H34O2/c1-5-13-25(14-6-1)31-21-29(2...</td>\n",
       "      <td>NZIGZXNUFVMHNV-UHFFFAOYSA-N</td>\n",
       "    </tr>\n",
       "    <tr>\n",
       "      <th>2372672</th>\n",
       "      <td>CHEMBL4298703</td>\n",
       "      <td>CSCC[C@H](NC=O)C(=O)N[C@@H](CCCNC(=N)NS(=O)(=O...</td>\n",
       "      <td>InChI=1S/C78H107N18O21PS2/c1-43-44(2)65(45(3)5...</td>\n",
       "      <td>IIHLOGWTFCCTPB-WTIPWMETSA-N</td>\n",
       "    </tr>\n",
       "    <tr>\n",
       "      <th>2372673</th>\n",
       "      <td>CHEMBL4298680</td>\n",
       "      <td>C[n+]1cn([C@@H]2O[C@H](CO[P@@](=O)(S)OP(=O)(O)...</td>\n",
       "      <td>InChI=1S/C11H20N5O13P3S/c1-15-3-16(8-5(15)9(19...</td>\n",
       "      <td>GDVFMBGQRVGNSJ-KOCQAOCKSA-N</td>\n",
       "    </tr>\n",
       "  </tbody>\n",
       "</table>\n",
       "<p>2372674 rows × 4 columns</p>\n",
       "</div>"
      ],
      "text/plain": [
       "             chembl_id                                   canonical_smiles  \\\n",
       "0         CHEMBL153534                       Cc1cc(-c2csc(N=C(N)N)n2)cn1C   \n",
       "1         CHEMBL440060  CC[C@H](C)[C@H](NC(=O)[C@H](CC(C)C)NC(=O)[C@@H...   \n",
       "2         CHEMBL440245  CCCC[C@@H]1NC(=O)[C@@H](NC(=O)[C@H](CC(C)C)NC(...   \n",
       "3         CHEMBL440249  CC(C)C[C@@H]1NC(=O)CNC(=O)[C@H](c2ccc(O)cc2)NC...   \n",
       "4         CHEMBL405398             Brc1cccc(Nc2ncnc3ccncc23)c1NCCN1CCOCC1   \n",
       "...                ...                                                ...   \n",
       "2372669  CHEMBL4298696  CCCCCCCCCCCCCCCCCCPCCCCCCCCCCCCCC.F[PH](F)(F)(...   \n",
       "2372670  CHEMBL4298698  C[n+]1cn([C@@H]2O[C@H](CO[P@@](=O)(S)OP(=O)([O...   \n",
       "2372671  CHEMBL4298702  c1ccc(C2CC(C3CC(c4ccccc4)OC(c4ccccc4)C3)CC(c3c...   \n",
       "2372672  CHEMBL4298703  CSCC[C@H](NC=O)C(=O)N[C@@H](CCCNC(=N)NS(=O)(=O...   \n",
       "2372673  CHEMBL4298680  C[n+]1cn([C@@H]2O[C@H](CO[P@@](=O)(S)OP(=O)(O)...   \n",
       "\n",
       "                                            standard_inchi  \\\n",
       "0        InChI=1S/C10H13N5S/c1-6-3-7(4-15(6)2)8-5-16-10...   \n",
       "1        InChI=1S/C123H212N44O34S/c1-19-63(12)96(164-11...   \n",
       "2        InChI=1S/C160H268N50O41/c1-23-27-41-95-134(228...   \n",
       "3        InChI=1S/C124H154ClN21O39/c1-57(2)48-81-112(17...   \n",
       "4        InChI=1S/C19H21BrN6O/c20-15-2-1-3-17(18(15)22-...   \n",
       "...                                                    ...   \n",
       "2372669  InChI=1S/C32H67P.F6HP/c1-3-5-7-9-11-13-15-17-1...   \n",
       "2372670  InChI=1S/C11H18N5O13P3S/c1-15-3-16(8-5(15)9(19...   \n",
       "2372671  InChI=1S/C34H34O2/c1-5-13-25(14-6-1)31-21-29(2...   \n",
       "2372672  InChI=1S/C78H107N18O21PS2/c1-43-44(2)65(45(3)5...   \n",
       "2372673  InChI=1S/C11H20N5O13P3S/c1-15-3-16(8-5(15)9(19...   \n",
       "\n",
       "                  standard_inchi_key  \n",
       "0        MFRNFCWYPYSFQQ-UHFFFAOYSA-N  \n",
       "1        RSEQNZQKBMRQNM-VRGFNVLHSA-N  \n",
       "2        FTKBTEIKPOYCEX-OZSLQWTKSA-N  \n",
       "3        UYSXXKGACMHPIM-KFGDMSGDSA-N  \n",
       "4        VDSXZXJEWIWBCG-UHFFFAOYSA-N  \n",
       "...                              ...  \n",
       "2372669  ZAKUDCIPPLAGQL-UHFFFAOYSA-N  \n",
       "2372670  OTIKKVINVWNBOQ-LDJOHHLFSA-N  \n",
       "2372671  NZIGZXNUFVMHNV-UHFFFAOYSA-N  \n",
       "2372672  IIHLOGWTFCCTPB-WTIPWMETSA-N  \n",
       "2372673  GDVFMBGQRVGNSJ-KOCQAOCKSA-N  \n",
       "\n",
       "[2372674 rows x 4 columns]"
      ]
     },
     "execution_count": 16,
     "metadata": {},
     "output_type": "execute_result"
    }
   ],
   "source": [
    "chembl"
   ]
  },
  {
   "cell_type": "code",
   "execution_count": 3,
   "metadata": {},
   "outputs": [],
   "source": [
    "ligands10 = chembl['canonical_smiles'].iloc[0:10]\n",
    "protein   = 'proteins/slc6a19.pdb'"
   ]
  },
  {
   "cell_type": "code",
   "execution_count": 4,
   "metadata": {},
   "outputs": [],
   "source": [
    "complex_mol_array = []\n",
    "scores_matrix     = []"
   ]
  },
  {
   "cell_type": "markdown",
   "metadata": {},
   "source": [
    "# Run Autodock Vina"
   ]
  },
  {
   "cell_type": "code",
   "execution_count": 5,
   "metadata": {},
   "outputs": [
    {
     "name": "stderr",
     "output_type": "stream",
     "text": [
      "Warning: importing 'simtk.openmm' is deprecated.  Import 'openmm' instead.\n"
     ]
    },
    {
     "name": "stdout",
     "output_type": "stream",
     "text": [
      "Docking ligand 1\n",
      "Preparing inputs ...\n",
      "Computing Vina grid ... done.\n",
      "Performing docking (random seed: 1315866677) ... \n",
      "0%   10   20   30   40   50   60   70   80   90   100%\n",
      "|----|----|----|----|----|----|----|----|----|----|\n",
      "***************************************************\n",
      "\n",
      "mode |   affinity | dist from best mode\n",
      "     | (kcal/mol) | rmsd l.b.| rmsd u.b.\n",
      "-----+------------+----------+----------\n",
      "   1       -4.774          0          0\n",
      "   2       -4.764      1.526      1.966\n",
      "   3       -4.728      3.248      6.807\n",
      "   4       -4.653      4.141      6.215\n",
      "   5       -4.639      4.728      6.292\n",
      "   6       -4.473       1.64      2.106\n",
      "   7       -4.469      4.068      6.561\n",
      "   8       -4.448      2.089      2.363\n",
      "   9       -4.368      3.506      5.673\n",
      "  10       -4.312      3.814      4.826\n",
      "Computing Vina grid ... done.\n",
      "Performing docking (random seed: 1315866677) ... \n",
      "0%   10   20   30   40   50   60   70   80   90   100%\n",
      "|----|----|----|----|----|----|----|----|----|----|\n",
      "***************************************************\n",
      "[-4.774, -4.764, -4.728, -4.653, -4.639, -4.473, -4.469, -4.448, -4.368, -4.312, -4.412, -4.131, -4.076, -4.066, -3.919, -3.752, -3.714, -3.568, -3.565, -3.526]\n",
      "Docking ligand 2\n",
      "Preparing inputs ...\n",
      "\n",
      "mode |   affinity | dist from best mode\n",
      "     | (kcal/mol) | rmsd l.b.| rmsd u.b.\n",
      "-----+------------+----------+----------\n",
      "   1       -4.412          0          0\n",
      "   2       -4.131      2.078      2.513\n",
      "   3       -4.076      4.097       6.47\n",
      "   4       -4.066      1.856      6.238\n",
      "   5       -3.919      2.298      6.198\n",
      "   6       -3.752      1.673      2.292\n",
      "   7       -3.714      1.322       2.14\n",
      "   8       -3.568      2.479      6.432\n",
      "   9       -3.565      4.726      9.082\n",
      "  10       -3.526        2.5      6.519\n"
     ]
    },
    {
     "name": "stderr",
     "output_type": "stream",
     "text": [
      "[15:16:19] WARNING: not removing hydrogen atom without neighbors\n",
      "[15:16:19] WARNING: not removing hydrogen atom without neighbors\n"
     ]
    },
    {
     "name": "stdout",
     "output_type": "stream",
     "text": [
      "Bad Conformer Id\n",
      "proteins/slc6a19.pdb failed PDB fixing\n",
      "Docking ligand 3\n",
      "Preparing inputs ...\n"
     ]
    },
    {
     "name": "stderr",
     "output_type": "stream",
     "text": [
      "[15:16:37] WARNING: not removing hydrogen atom without neighbors\n",
      "[15:16:37] WARNING: not removing hydrogen atom without neighbors\n"
     ]
    },
    {
     "name": "stdout",
     "output_type": "stream",
     "text": [
      "Bad Conformer Id\n",
      "proteins/slc6a19.pdb failed PDB fixing\n",
      "CPU times: user 2min 32s, sys: 1.07 s, total: 2min 33s\n",
      "Wall time: 1min 42s\n"
     ]
    }
   ],
   "source": [
    "%%time\n",
    "\n",
    "for count in range(0, 3):\n",
    "    \n",
    "    print(\"Docking ligand \"+ str(count + 1))\n",
    "    ligand = ligands10[count]\n",
    "    p, m = None, None\n",
    "\n",
    "    try:\n",
    "        print('Preparing inputs ...')\n",
    "        p, m = prepare_inputs(protein, ligand, pH = 7.4)\n",
    "    except Exception as e:\n",
    "        print(e)\n",
    "        print('%s failed PDB fixing' % (protein)) \n",
    "        scores_matrix.append(['No scores: failed PDB fixing' + str(e)])\n",
    "        complex_mol_array.append(['No molecules'])\n",
    "    \n",
    "    if p is not None and m is not None:  \n",
    "        try:\n",
    "            pocket_finder = P2RankPocketFinder(\n",
    "                'p2rank_2.4.1/test_output/predict_slc6a19/slc6a19.pdb_predictions.csv',\n",
    "                ligand_mol = m, threshold = 0.3, padding = 10.0)\n",
    "\n",
    "            vpg = dc.dock.pose_generation.VinaPoseGenerator(pocket_finder = pocket_finder)\n",
    "            Chem.rdmolfiles.MolToPDBFile(p, 'data/protein_%s.pdb' % (count))\n",
    "            Chem.rdmolfiles.MolToPDBFile(m, 'data/ligand_%s.pdb' % (count))\n",
    "\n",
    "            complexes, scores = vpg.generate_poses(\n",
    "                molecular_complex=('data/protein_%s.pdb' % (count),'data/ligand_%s.pdb' % (count)), \n",
    "                out_dir = 'data', generate_scores = True, num_modes = 10, cpu = 10, seed = 123)\n",
    "\n",
    "            print(scores)\n",
    "            scores_matrix.append(scores)\n",
    "            complex_mol_array.append(complexes)\n",
    "        except Exception as e:\n",
    "            print(m)\n",
    "            print(e)\n",
    "        \n",
    "    else:\n",
    "        scores_matrix.append(['No scores'])\n",
    "        complex_mol_array.append(['No molecules'])\n"
   ]
  },
  {
   "cell_type": "code",
   "execution_count": 6,
   "metadata": {},
   "outputs": [
    {
     "data": {
      "text/plain": [
       "[[(<rdkit.Chem.rdchem.Mol at 0x7f1bb3ba87c0>,\n",
       "   <rdkit.Chem.rdchem.Mol at 0x7f1ba5755480>),\n",
       "  (<rdkit.Chem.rdchem.Mol at 0x7f1bb3ba87c0>,\n",
       "   <rdkit.Chem.rdchem.Mol at 0x7f1ba57554e0>),\n",
       "  (<rdkit.Chem.rdchem.Mol at 0x7f1bb3ba87c0>,\n",
       "   <rdkit.Chem.rdchem.Mol at 0x7f1ba5755540>),\n",
       "  (<rdkit.Chem.rdchem.Mol at 0x7f1bb3ba87c0>,\n",
       "   <rdkit.Chem.rdchem.Mol at 0x7f1ba57555a0>),\n",
       "  (<rdkit.Chem.rdchem.Mol at 0x7f1bb3ba87c0>,\n",
       "   <rdkit.Chem.rdchem.Mol at 0x7f1ba5755600>),\n",
       "  (<rdkit.Chem.rdchem.Mol at 0x7f1bb3ba87c0>,\n",
       "   <rdkit.Chem.rdchem.Mol at 0x7f1ba5755660>),\n",
       "  (<rdkit.Chem.rdchem.Mol at 0x7f1bb3ba87c0>,\n",
       "   <rdkit.Chem.rdchem.Mol at 0x7f1ba57556c0>),\n",
       "  (<rdkit.Chem.rdchem.Mol at 0x7f1bb3ba87c0>,\n",
       "   <rdkit.Chem.rdchem.Mol at 0x7f1ba5755720>),\n",
       "  (<rdkit.Chem.rdchem.Mol at 0x7f1bb3ba87c0>,\n",
       "   <rdkit.Chem.rdchem.Mol at 0x7f1ba5755780>),\n",
       "  (<rdkit.Chem.rdchem.Mol at 0x7f1bb3ba87c0>,\n",
       "   <rdkit.Chem.rdchem.Mol at 0x7f1ba57557e0>),\n",
       "  (<rdkit.Chem.rdchem.Mol at 0x7f1bb3ba87c0>,\n",
       "   <rdkit.Chem.rdchem.Mol at 0x7f1ba5755840>),\n",
       "  (<rdkit.Chem.rdchem.Mol at 0x7f1bb3ba87c0>,\n",
       "   <rdkit.Chem.rdchem.Mol at 0x7f1ba57558a0>),\n",
       "  (<rdkit.Chem.rdchem.Mol at 0x7f1bb3ba87c0>,\n",
       "   <rdkit.Chem.rdchem.Mol at 0x7f1ba5755900>),\n",
       "  (<rdkit.Chem.rdchem.Mol at 0x7f1bb3ba87c0>,\n",
       "   <rdkit.Chem.rdchem.Mol at 0x7f1ba5755960>),\n",
       "  (<rdkit.Chem.rdchem.Mol at 0x7f1bb3ba87c0>,\n",
       "   <rdkit.Chem.rdchem.Mol at 0x7f1ba57559c0>),\n",
       "  (<rdkit.Chem.rdchem.Mol at 0x7f1bb3ba87c0>,\n",
       "   <rdkit.Chem.rdchem.Mol at 0x7f1ba5755a20>),\n",
       "  (<rdkit.Chem.rdchem.Mol at 0x7f1bb3ba87c0>,\n",
       "   <rdkit.Chem.rdchem.Mol at 0x7f1ba5755a80>),\n",
       "  (<rdkit.Chem.rdchem.Mol at 0x7f1bb3ba87c0>,\n",
       "   <rdkit.Chem.rdchem.Mol at 0x7f1ba5755ae0>),\n",
       "  (<rdkit.Chem.rdchem.Mol at 0x7f1bb3ba87c0>,\n",
       "   <rdkit.Chem.rdchem.Mol at 0x7f1ba5755b40>),\n",
       "  (<rdkit.Chem.rdchem.Mol at 0x7f1bb3ba87c0>,\n",
       "   <rdkit.Chem.rdchem.Mol at 0x7f1ba5755ba0>)],\n",
       " ['No molecules'],\n",
       " ['No molecules'],\n",
       " ['No molecules'],\n",
       " ['No molecules']]"
      ]
     },
     "execution_count": 6,
     "metadata": {},
     "output_type": "execute_result"
    }
   ],
   "source": [
    "complex_mol_array"
   ]
  },
  {
   "cell_type": "code",
   "execution_count": 22,
   "metadata": {},
   "outputs": [],
   "source": [
    "with open('input/chembl_split_dir_1/scores_dict.pkl', 'rb') as file:\n",
    "    scores = pickle.load(file)\n",
    "    \n",
    "with open('input/chembl_split_dir_1/ids.pkl', 'rb') as file:\n",
    "    mols   = pickle.load(file)"
   ]
  },
  {
   "cell_type": "code",
   "execution_count": 23,
   "metadata": {},
   "outputs": [
    {
     "data": {
      "text/plain": [
       "{'CHEMBL153534': [[-4.755,\n",
       "   -4.752,\n",
       "   -4.695,\n",
       "   -4.627,\n",
       "   -4.622,\n",
       "   -4.457,\n",
       "   -4.453,\n",
       "   -4.453,\n",
       "   -4.387,\n",
       "   -4.381],\n",
       "  [-4.407,\n",
       "   -4.182,\n",
       "   -4.118,\n",
       "   -4.068,\n",
       "   -3.841,\n",
       "   -3.823,\n",
       "   -3.752,\n",
       "   -3.71,\n",
       "   -3.699,\n",
       "   -3.671]],\n",
       " 'CHEMBL440060': 'Error'}"
      ]
     },
     "execution_count": 23,
     "metadata": {},
     "output_type": "execute_result"
    }
   ],
   "source": [
    "scores"
   ]
  },
  {
   "cell_type": "markdown",
   "metadata": {},
   "source": [
    "# Binding energies"
   ]
  },
  {
   "cell_type": "markdown",
   "metadata": {},
   "source": [
    "Next, we can see that all the scores generated from Vina Pose Generator for the respective complexes are negative. This is because protein–ligand binding occurs only when the change in Gibbs free energy (ΔG) of the system is negative and more negative the free energy is the more stable the complex would be as show in Ref. Additionally, molecular docking evaluation based on the paper here showed that the binding affinities of all the derivatives range from (- 3.2 and -18.5 kcal/mol).\n",
    "\n"
   ]
  },
  {
   "cell_type": "markdown",
   "metadata": {},
   "source": [
    "used 10 poses because of the paper"
   ]
  },
  {
   "cell_type": "code",
   "execution_count": 21,
   "metadata": {},
   "outputs": [
    {
     "data": {
      "text/plain": [
       "[-4.78,\n",
       " -4.713,\n",
       " -4.67,\n",
       " -4.605,\n",
       " -4.588,\n",
       " -4.495,\n",
       " -4.468,\n",
       " -4.356,\n",
       " -4.303,\n",
       " -4.144,\n",
       " -4.411,\n",
       " -4.08,\n",
       " -4.059,\n",
       " -4.056,\n",
       " -3.869,\n",
       " -3.722,\n",
       " -3.606,\n",
       " -3.605,\n",
       " -3.542,\n",
       " -3.498]"
      ]
     },
     "execution_count": 21,
     "metadata": {},
     "output_type": "execute_result"
    }
   ],
   "source": [
    "scores[0]"
   ]
  },
  {
   "cell_type": "code",
   "execution_count": 19,
   "metadata": {},
   "outputs": [
    {
     "data": {
      "text/plain": [
       "0       CHEMBL153534\n",
       "1       CHEMBL440060\n",
       "2       CHEMBL440245\n",
       "3       CHEMBL440249\n",
       "4       CHEMBL405398\n",
       "           ...      \n",
       "995     CHEMBL502060\n",
       "996    CHEMBL4116107\n",
       "997     CHEMBL502072\n",
       "998     CHEMBL502296\n",
       "999     CHEMBL539383\n",
       "Name: chembl_id, Length: 1000, dtype: object"
      ]
     },
     "execution_count": 19,
     "metadata": {},
     "output_type": "execute_result"
    }
   ],
   "source": [
    "mols"
   ]
  },
  {
   "cell_type": "code",
   "execution_count": null,
   "metadata": {},
   "outputs": [],
   "source": []
  }
 ],
 "metadata": {
  "kernelspec": {
   "display_name": "chem",
   "language": "python",
   "name": "chem"
  },
  "language_info": {
   "codemirror_mode": {
    "name": "ipython",
    "version": 3
   },
   "file_extension": ".py",
   "mimetype": "text/x-python",
   "name": "python",
   "nbconvert_exporter": "python",
   "pygments_lexer": "ipython3",
   "version": "3.10.13"
  }
 },
 "nbformat": 4,
 "nbformat_minor": 5
}
