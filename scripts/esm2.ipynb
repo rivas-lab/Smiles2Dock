{
 "cells": [
  {
   "cell_type": "code",
   "execution_count": 10,
   "id": "d30b70f1-8de1-4a86-ba1d-6ef88ac76505",
   "metadata": {},
   "outputs": [],
   "source": [
    "from os import environ, listdir, path\n",
    "\n",
    "environ[\"HF_HOME\"] = \"/oak/stanford/groups/mrivas/projects/multiomics/tlmenest/LLMChemCreator/huggingface\""
   ]
  },
  {
   "cell_type": "code",
   "execution_count": 11,
   "id": "63a01374-38d8-4888-af2c-fdf9b4b80694",
   "metadata": {},
   "outputs": [],
   "source": [
    "from transformers import AutoModel, AutoTokenizer\n",
    "from torch        import no_grad, save, load\n",
    "from Bio.PDB      import PDBParser\n",
    "from Bio.SeqUtils import seq1"
   ]
  },
  {
   "cell_type": "code",
   "execution_count": 12,
   "id": "72c54bef-d65d-47af-95a5-3a747923cb09",
   "metadata": {},
   "outputs": [
    {
     "name": "stderr",
     "output_type": "stream",
     "text": [
      "Some weights of EsmModel were not initialized from the model checkpoint at facebook/esm2_t33_650M_UR50D and are newly initialized: ['esm.pooler.dense.bias', 'esm.pooler.dense.weight']\n",
      "You should probably TRAIN this model on a down-stream task to be able to use it for predictions and inference.\n"
     ]
    }
   ],
   "source": [
    "model_name = \"facebook/esm2_t33_650M_UR50D\"\n",
    "tokenizer = AutoTokenizer.from_pretrained(model_name)\n",
    "model = AutoModel.from_pretrained(model_name)"
   ]
  },
  {
   "cell_type": "code",
   "execution_count": 13,
   "id": "84b6b047-5fc5-4331-ad26-356cdc74cd51",
   "metadata": {},
   "outputs": [],
   "source": [
    "# Define your PDB ID and file path\n",
    "PDB_ID = \"YOUR_PDB_ID_HERE\" \n",
    "PDB_file_path = \"proteins/apol1.pdb\"\n",
    "pdbparser = PDBParser()\n",
    "\n",
    "structure = pdbparser.get_structure(PDB_ID, PDB_file_path)\n",
    "chains = {chain.id: seq1(''.join(residue.resname.strip() for residue in chain if residue.id[0] == \" \" and residue.resname.isalpha()), undef_code=\"X\") for chain in structure.get_chains()}"
   ]
  },
  {
   "cell_type": "code",
   "execution_count": 14,
   "id": "7253c1cc-bd8d-434a-b865-7d6ad4b92576",
   "metadata": {},
   "outputs": [],
   "source": [
    "chain = chains['A']"
   ]
  },
  {
   "cell_type": "code",
   "execution_count": 15,
   "id": "02acf3ce-3d57-41ba-9d86-97b8f14e26e4",
   "metadata": {},
   "outputs": [
    {
     "ename": "NameError",
     "evalue": "name 'extract_sequence_from_pdb' is not defined",
     "output_type": "error",
     "traceback": [
      "\u001b[0;31m---------------------------------------------------------------------------\u001b[0m",
      "\u001b[0;31mNameError\u001b[0m                                 Traceback (most recent call last)",
      "Cell \u001b[0;32mIn[15], line 2\u001b[0m\n\u001b[1;32m      1\u001b[0m pdb_file_path \u001b[38;5;241m=\u001b[39m \u001b[38;5;124m\"\u001b[39m\u001b[38;5;124mproteins/apol1.pdb\u001b[39m\u001b[38;5;124m\"\u001b[39m\n\u001b[0;32m----> 2\u001b[0m sequence \u001b[38;5;241m=\u001b[39m \u001b[43mextract_sequence_from_pdb\u001b[49m(pdb_file_path)\n",
      "\u001b[0;31mNameError\u001b[0m: name 'extract_sequence_from_pdb' is not defined"
     ]
    }
   ],
   "source": [
    "pdb_file_path = \"proteins/apol1.pdb\"\n",
    "sequence = extract_sequence_from_pdb(pdb_file_path)"
   ]
  },
  {
   "cell_type": "code",
   "execution_count": null,
   "id": "1abab374-0b7c-4695-b0f5-2621e2bedbd0",
   "metadata": {},
   "outputs": [],
   "source": [
    "inputs = tokenizer(chain, return_tensors=\"pt\")\n",
    "\n",
    "with no_grad():\n",
    "    outputs = model(**inputs)\n",
    "    embeddings = outputs.last_hidden_state  "
   ]
  },
  {
   "cell_type": "code",
   "execution_count": null,
   "id": "05821cfc-93c0-4518-b059-94a67be98b06",
   "metadata": {},
   "outputs": [],
   "source": [
    "embeddings.shape"
   ]
  },
  {
   "cell_type": "code",
   "execution_count": null,
   "id": "0fbd20bc-4a87-4ab6-b20d-da6a54897dc7",
   "metadata": {},
   "outputs": [],
   "source": [
    "embeddings"
   ]
  },
  {
   "cell_type": "code",
   "execution_count": 16,
   "id": "5c286dc6-955e-4bec-b7b1-1cfff0f5e9a3",
   "metadata": {},
   "outputs": [],
   "source": [
    "protein_files = listdir('proteins')\n",
    "pdb_files     = [file for file in protein_files if file.endswith('.pdb')]"
   ]
  },
  {
   "cell_type": "code",
   "execution_count": 20,
   "id": "66015099-3a2d-49b6-82d2-5e917170cc93",
   "metadata": {},
   "outputs": [
    {
     "data": {
      "text/plain": [
       "['dnmt3a.pdb',\n",
       " 'tbc1d1.pdb',\n",
       " 'ankh.pdb',\n",
       " 'scn10a.pdb',\n",
       " '.ipynb_checkpoints',\n",
       " 'gpr75.pdb',\n",
       " 'embeddings',\n",
       " 'gipr.pdb',\n",
       " 'umod.pdb',\n",
       " 'cfhr5.pdb',\n",
       " 'pcsk9.pdb',\n",
       " 'rnf186.pdb',\n",
       " 'tyk2.pdb',\n",
       " 'nlrp3.pdb',\n",
       " 'il4r.pdb',\n",
       " 'dpp9.pdb',\n",
       " 'apol1.pdb',\n",
       " 'scn9a.pdb',\n",
       " 'f10a.pdb',\n",
       " 'slc6a19.pdb',\n",
       " 'card6.pdb',\n",
       " 'tnfsf15.pdb',\n",
       " 'gys1.pdb',\n",
       " 'dpp4.pdb',\n",
       " 'adcy5.pdb',\n",
       " 'map3k15.pdb',\n",
       " 'ifih1.pdb',\n",
       " 'slc30a8.pdb',\n",
       " 'ubash3a.pdb',\n",
       " 'lrp2.pdb']"
      ]
     },
     "execution_count": 20,
     "metadata": {},
     "output_type": "execute_result"
    }
   ],
   "source": [
    "protein_files"
   ]
  },
  {
   "cell_type": "code",
   "execution_count": 17,
   "id": "75c97b52-e0c4-4e09-9483-13d2b99ead05",
   "metadata": {},
   "outputs": [],
   "source": [
    "pdbparser = PDBParser()\n",
    "chains    = []\n",
    "\n",
    "for file in pdb_files:\n",
    "\n",
    "    PDB_file_path = path.join('proteins', file)\n",
    "    structure = pdbparser.get_structure(PDB_ID, PDB_file_path)\n",
    "    output    = {chain.id: seq1(''.join(residue.resname.strip() for residue in chain if residue.id[0] == \" \" and residue.resname.isalpha()), undef_code=\"X\") for chain in structure.get_chains()}\n",
    "\n",
    "    chain = output['A']\n",
    "    (chains.append(chain))"
   ]
  },
  {
   "cell_type": "code",
   "execution_count": 18,
   "id": "bb1f86b3-8ac2-4a77-bf3c-62137e1a5d58",
   "metadata": {},
   "outputs": [
    {
     "name": "stdout",
     "output_type": "stream",
     "text": [
      "912\n",
      "1168\n",
      "492\n",
      "1956\n",
      "540\n",
      "466\n",
      "640\n",
      "569\n",
      "692\n",
      "227\n",
      "1187\n",
      "1036\n",
      "825\n",
      "863\n",
      "398\n",
      "1988\n",
      "488\n",
      "634\n",
      "1037\n",
      "251\n",
      "737\n",
      "766\n",
      "1261\n",
      "1313\n",
      "921\n",
      "52\n",
      "451\n",
      "1225\n"
     ]
    }
   ],
   "source": [
    "for chain in chains:\n",
    "\n",
    "    print(len(chain))"
   ]
  },
  {
   "cell_type": "code",
   "execution_count": 19,
   "id": "a1d78e00-2b91-4019-b58b-7aafb4e7620d",
   "metadata": {},
   "outputs": [
    {
     "name": "stdout",
     "output_type": "stream",
     "text": [
      "Done\n",
      "Done\n",
      "Done\n",
      "Done\n",
      "Done\n",
      "Done\n",
      "Done\n",
      "Done\n",
      "Done\n",
      "Done\n",
      "Done\n",
      "Done\n",
      "Done\n",
      "Done\n",
      "Done\n",
      "Done\n",
      "Done\n",
      "Done\n",
      "Done\n",
      "Done\n",
      "Done\n",
      "Done\n",
      "Done\n",
      "Done\n",
      "Done\n",
      "Done\n",
      "Done\n",
      "Done\n",
      "CPU times: user 8min 40s, sys: 1min 55s, total: 10min 35s\n",
      "Wall time: 11min\n"
     ]
    }
   ],
   "source": [
    "%%time\n",
    "\n",
    "embeddings = []\n",
    "\n",
    "for chain in chains:\n",
    "\n",
    "    inputs = tokenizer(chain, return_tensors=\"pt\")\n",
    "\n",
    "    with no_grad():\n",
    "        outputs = model(**inputs)\n",
    "        embedding = outputs.last_hidden_state  \n",
    "        print('Done')\n",
    "    embeddings.append(embedding)"
   ]
  },
  {
   "cell_type": "code",
   "execution_count": null,
   "id": "4be9a22c-ee08-40d2-ab31-d0eac73f0dd9",
   "metadata": {},
   "outputs": [],
   "source": [
    "embeddings"
   ]
  },
  {
   "cell_type": "code",
   "execution_count": 21,
   "id": "98d9d7e4-94fd-46ea-ab8d-6b5a70add19e",
   "metadata": {},
   "outputs": [],
   "source": [
    "for i in range(len(pdb_files)):\n",
    "\n",
    "    save_path = path.join('proteins/embeddings/', (pdb_files[i][:-4] + '_embedding.pt'))\n",
    "    save(embeddings[i], save_path)"
   ]
  },
  {
   "cell_type": "code",
   "execution_count": 22,
   "id": "02dbacde-cd2c-44a4-9fbb-8c00d2137fe3",
   "metadata": {},
   "outputs": [
    {
     "data": {
      "text/plain": [
       "torch.Size([1, 400, 1280])"
      ]
     },
     "execution_count": 22,
     "metadata": {},
     "output_type": "execute_result"
    }
   ],
   "source": [
    "loaded_tensor = load('proteins/embeddings/apol1_embedding.pt')\n",
    "\n",
    "# Display the loaded tensor\n",
    "loaded_tensor.shape"
   ]
  },
  {
   "cell_type": "code",
   "execution_count": null,
   "id": "27e6052c-c039-474f-8c1b-8e0d1fcbbe81",
   "metadata": {},
   "outputs": [],
   "source": [
    "def canonicalize(s):\n",
    "    return Chem.MolToSmiles(Chem.MolFromSmiles(s), canonical=True, isomericSmiles=False)\n",
    "\n",
    "def batch_split(data, batch_size=64):\n",
    "    for i in range(0, len(data), batch_size):\n",
    "        yield data[i:i+batch_size]\n",
    "\n",
    "def embed_and_save(model, df, tokenizer, batch_size=64):\n",
    "    model.eval()\n",
    "    for batch in batch_split(df, batch_size):\n",
    "        smiles = batch['canonical_smiles'].apply(canonicalize)\n",
    "        batch_enc = tokenizer.batch_encode_plus(smiles.tolist(), padding=True, add_special_tokens=True, return_tensors='pt')\n",
    "        idx, mask = batch_enc['input_ids'], batch_enc['attention_mask']\n",
    "        with torch.no_grad():\n",
    "            token_embeddings = model(idx, attention_mask=mask).last_hidden_state\n",
    "        input_mask_expanded = mask.unsqueeze(-1).expand(token_embeddings.size()).float()\n",
    "        sum_embeddings = torch.sum(token_embeddings * input_mask_expanded, 1)\n",
    "        sum_mask = torch.clamp(input_mask_expanded.sum(1), min=1e-9)\n",
    "        embeddings = sum_embeddings / sum_mask\n",
    "        for i, chembl_id in enumerate(batch['chembl_id']):\n",
    "            # Ensure the directory exists\n",
    "            os.makedirs('ligands', exist_ok=True)\n",
    "            # Save each tensor\n",
    "            torch.save(embeddings[i].cpu(), f'ligands/{chembl_id}.pt')"
   ]
  },
  {
   "cell_type": "code",
   "execution_count": 6,
   "id": "24f9a26d-58a3-4e19-8b25-ece4e62ce822",
   "metadata": {},
   "outputs": [],
   "source": [
    "from os import listdir"
   ]
  },
  {
   "cell_type": "code",
   "execution_count": 7,
   "id": "361f9807-371d-4544-ab02-4750e617e875",
   "metadata": {},
   "outputs": [],
   "source": [
    "embs = listdir('ligands/')"
   ]
  },
  {
   "cell_type": "code",
   "execution_count": 9,
   "id": "bdfb1f1a-ba6c-447d-b09e-486bbff15ab1",
   "metadata": {},
   "outputs": [
    {
     "data": {
      "text/plain": [
       "869510"
      ]
     },
     "execution_count": 9,
     "metadata": {},
     "output_type": "execute_result"
    }
   ],
   "source": [
    "len(embs)"
   ]
  },
  {
   "cell_type": "code",
   "execution_count": null,
   "id": "53bec11e-1af9-4403-a44d-20964aef3827",
   "metadata": {},
   "outputs": [],
   "source": []
  }
 ],
 "metadata": {
  "kernelspec": {
   "display_name": "docking",
   "language": "python",
   "name": "docking"
  },
  "language_info": {
   "codemirror_mode": {
    "name": "ipython",
    "version": 3
   },
   "file_extension": ".py",
   "mimetype": "text/x-python",
   "name": "python",
   "nbconvert_exporter": "python",
   "pygments_lexer": "ipython3",
   "version": "3.10.13"
  }
 },
 "nbformat": 4,
 "nbformat_minor": 5
}
