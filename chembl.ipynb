{
 "cells": [
  {
   "cell_type": "code",
   "execution_count": 33,
   "id": "74d8ae72",
   "metadata": {},
   "outputs": [],
   "source": [
    "import openbabel\n",
    "import multiprocessing as mp\n",
    "import nglview as nv\n",
    "import pandas as pd\n",
    "import pybel\n",
    "\n",
    "from Bio.PDB    import PDBParser\n",
    "from meeko      import MoleculePreparation, PDBQTWriterLegacy\n",
    "from rdkit      import Chem\n",
    "from rdkit.Chem import AllChem\n",
    "from vina       import Vina\n",
    "from pdbfixer   import PDBFixer\n",
    "from openmm.app import PDBFile"
   ]
  },
  {
   "cell_type": "code",
   "execution_count": 2,
   "id": "50322265",
   "metadata": {},
   "outputs": [
    {
     "data": {
      "text/plain": [
       "20"
      ]
     },
     "execution_count": 2,
     "metadata": {},
     "output_type": "execute_result"
    }
   ],
   "source": [
    "mp.cpu_count()"
   ]
  },
  {
   "cell_type": "markdown",
   "id": "23f7a252",
   "metadata": {},
   "source": [
    "# Chemdbl"
   ]
  },
  {
   "cell_type": "code",
   "execution_count": 3,
   "id": "83ded6c6",
   "metadata": {},
   "outputs": [],
   "source": [
    "chembl = pd.read_table('data/chembl/chembl_33_chemreps.txt', sep='\\t')"
   ]
  },
  {
   "cell_type": "code",
   "execution_count": 7,
   "id": "1a338da5",
   "metadata": {},
   "outputs": [],
   "source": [
    "smiles = chembl.canonical_smiles.tolist()"
   ]
  },
  {
   "cell_type": "markdown",
   "id": "450bf2df",
   "metadata": {},
   "source": [
    "# Processing"
   ]
  },
  {
   "cell_type": "code",
   "execution_count": 8,
   "id": "41b883cc",
   "metadata": {},
   "outputs": [],
   "source": [
    "def smiles_to_rdkit_molecule(smiles_string):\n",
    "    \n",
    "    # Convert the SMILES string to an RDKit molecule object\n",
    "    smiles_molecule = Chem.MolFromSmiles(smiles_string)\n",
    "\n",
    "    # Add hydrogen atoms to the molecule\n",
    "    molecule_with_hydrogens = Chem.AddHs(smiles_molecule)\n",
    "    \n",
    "    print(type(molecule_with_hydrogens))\n",
    "    \n",
    "    # Generate 3D coordinates\n",
    "    AllChem.EmbedMolecule(molecule_with_hydrogens, AllChem.ETKDG())\n",
    "\n",
    "    # Generate 3D coordinates\n",
    "    if AllChem.EmbedMolecule(molecule_with_hydrogens, AllChem.ETKDG()) >= 0:\n",
    "        # Optionally, optimize the geometry only if EmbedMolecule is successful\n",
    "        AllChem.UFFOptimizeMolecule(molecule_with_hydrogens)\n",
    "        success = 'Successfull'\n",
    "    else:\n",
    "        success = 'Not succesfull'\n",
    "    \n",
    "    return (molecule_with_hydrogens, success)"
   ]
  },
  {
   "cell_type": "code",
   "execution_count": 9,
   "id": "99c7a675",
   "metadata": {},
   "outputs": [],
   "source": [
    "def parallel_smiles_to_rdkit_molecule(list_smiles_string, num_cores=mp.cpu_count()):\n",
    "    \n",
    "    with mp.Pool(num_cores) as pool:\n",
    "        rdkit_objects, success  = pool.map(smiles_to_rdkit_molecule, list_smiles_string)\n",
    "        \n",
    "    return rdkit_objects, success"
   ]
  },
  {
   "cell_type": "markdown",
   "id": "1fb4bea7-798d-44a8-b04d-4c3dfd9b9a0e",
   "metadata": {},
   "source": [
    "# Get molfile and save it to .pdb"
   ]
  },
  {
   "cell_type": "code",
   "execution_count": 10,
   "id": "57581396",
   "metadata": {},
   "outputs": [
    {
     "name": "stdout",
     "output_type": "stream",
     "text": [
      "<class 'rdkit.Chem.rdchem.Mol'>\n",
      "CPU times: user 84.5 ms, sys: 1.82 ms, total: 86.3 ms\n",
      "Wall time: 86 ms\n"
     ]
    }
   ],
   "source": [
    "%%time\n",
    "\n",
    "molfile, success = smiles_to_rdkit_molecule(smiles[0])"
   ]
  },
  {
   "cell_type": "code",
   "execution_count": 11,
   "id": "3295638b",
   "metadata": {},
   "outputs": [],
   "source": [
    "Chem.MolToPDBFile(molfile, \"data/molecule.pdb\")"
   ]
  },
  {
   "cell_type": "markdown",
   "id": "185cd4ff-b861-4733-89e4-03d70e213cdd",
   "metadata": {},
   "source": [
    "# Fixing the protein"
   ]
  },
  {
   "cell_type": "code",
   "execution_count": null,
   "id": "4064a688-0b7b-4698-98e9-5c15258b43d8",
   "metadata": {},
   "outputs": [],
   "source": [
    "ph = 7.4  "
   ]
  },
  {
   "cell_type": "code",
   "execution_count": 15,
   "id": "7f32a576",
   "metadata": {},
   "outputs": [],
   "source": [
    "pdb_filename = 'data/angptl7.pdb'  \n",
    "fixer        = PDBFixer(filename=pdb_filename)\n",
    "\n",
    "fixer.findMissingResidues()\n",
    "fixer.findMissingAtoms()\n",
    "fixer.addMissingAtoms()\n",
    "fixer.addMissingHydrogens(ph)\n",
    "\n",
    "PDBFile.writeFile(fixer.topology, fixer.positions, open('data/angptl7_fixed.pdbqt'  , 'w'))"
   ]
  },
  {
   "cell_type": "markdown",
   "id": "ed490b0b-052b-4fa3-a192-45cbcb0e0f9d",
   "metadata": {},
   "source": [
    "# Fixing the molecule "
   ]
  },
  {
   "cell_type": "code",
   "execution_count": 16,
   "id": "eb75524d",
   "metadata": {},
   "outputs": [],
   "source": [
    "pdb_filename = 'data/molecule.pdb'\n",
    "fixer        = PDBFixer(filename=pdb_filename)\n",
    "\n",
    "fixer.findMissingResidues()\n",
    "fixer.findMissingAtoms()\n",
    "fixer.addMissingAtoms()\n",
    "fixer.addMissingHydrogens(ph)\n",
    "\n",
    "PDBFile.writeFile(fixer.topology, fixer.positions, open('data/molecule_fixed.pdbqt', 'w'))"
   ]
  },
  {
   "cell_type": "markdown",
   "id": "f0681701",
   "metadata": {},
   "source": [
    "# Preparation"
   ]
  },
  {
   "cell_type": "code",
   "execution_count": 19,
   "id": "2a0a486b",
   "metadata": {},
   "outputs": [
    {
     "name": "stdout",
     "output_type": "stream",
     "text": [
      "REMARK SMILES Cc1cc(-c2csc(N=C(N)N)n2)cn1C\n",
      "REMARK SMILES IDX 5 1 6 2 7 3 8 4 13 5 4 6 1 7 2 8 3 9 15 10 14 11 16 12 9 13\n",
      "REMARK SMILES IDX 10 14 11 15 12 16\n",
      "REMARK H PARENT 11 17 11 18 12 19 12 20\n",
      "REMARK Flexibility Score: inf\n",
      "ROOT\n",
      "ATOM      1  C   UNL     1       0.339   0.376  -0.475  1.00  0.00     0.085 A \n",
      "ATOM      2  C   UNL     1       0.883   1.352  -1.312  1.00  0.00     0.097 A \n",
      "ATOM      3  S   UNL     1       2.542   1.095  -1.399  1.00  0.00    -0.103 S \n",
      "ATOM      4  C   UNL     1       2.504  -0.215  -0.339  1.00  0.00     0.212 A \n",
      "ATOM      5  N   UNL     1       1.242  -0.500   0.044  1.00  0.00    -0.218 NA\n",
      "ENDROOT\n",
      "BRANCH   1   6\n",
      "ATOM      6  C   UNL     1      -1.099   0.267  -0.176  1.00  0.00     0.019 A \n",
      "ATOM      7  C   UNL     1      -4.648   1.172  -0.317  1.00  0.00     0.064 C \n",
      "ATOM      8  C   UNL     1      -3.283   0.603  -0.086  1.00  0.00     0.015 A \n",
      "ATOM      9  C   UNL     1      -2.114   1.088  -0.642  1.00  0.00     0.033 A \n",
      "ATOM     10  N   UNL     1      -3.020  -0.480   0.677  1.00  0.00    -0.354 N \n",
      "ATOM     11  C   UNL     1      -1.689  -0.683   0.637  1.00  0.00     0.095 A \n",
      "ATOM     12  C   UNL     1      -3.981  -1.254   1.459  1.00  0.00     0.149 C \n",
      "ENDBRANCH   1   6\n",
      "BRANCH   4  13\n",
      "ATOM     13  N   UNL     1       3.608  -1.078  -0.036  1.00  0.00    -0.186 NA\n",
      "ATOM     14  C   UNL     1       4.858  -0.741   0.106  1.00  0.00     0.193 C \n",
      "ATOM     15  N   UNL     1       5.830  -1.768   0.300  1.00  0.00    -0.370 N \n",
      "ATOM     16  N   UNL     1       5.275   0.629   0.144  1.00  0.00    -0.370 N \n",
      "ATOM     17  H   UNL     1       5.548  -2.774   0.299  1.00  0.00     0.159 HD\n",
      "ATOM     18  H   UNL     1       6.836  -1.526   0.443  1.00  0.00     0.159 HD\n",
      "ATOM     19  H   UNL     1       6.293   0.861   0.138  1.00  0.00     0.159 HD\n",
      "ATOM     20  H   UNL     1       4.606   1.403   0.343  1.00  0.00     0.159 HD\n",
      "ENDBRANCH   4  13\n",
      "TORSDOF 2\n"
     ]
    }
   ],
   "source": [
    "preparator = MoleculePreparation()\n",
    "mol_setups = preparator.prepare(molfile)\n",
    "for setup in mol_setups:\n",
    "    pdbqt_string, is_ok, error_msg = PDBQTWriterLegacy.write_string(setup)\n",
    "    if is_ok:\n",
    "        print(pdbqt_string, end=\"\")"
   ]
  },
  {
   "cell_type": "markdown",
   "id": "068024fa-a42c-4c47-803f-587e597212c6",
   "metadata": {},
   "source": [
    "# Calculate geometric center"
   ]
  },
  {
   "cell_type": "code",
   "execution_count": 24,
   "id": "35695374",
   "metadata": {},
   "outputs": [],
   "source": [
    "def calculate_geometric_center(pdb_filename):\n",
    "    parser = PDBParser()\n",
    "    structure = parser.get_structure('structure', pdb_filename)\n",
    "    atom_coords = [atom.get_coord() for atom in structure.get_atoms()]\n",
    "    x_coords = [coord[0] for coord in atom_coords]\n",
    "    y_coords = [coord[1] for coord in atom_coords]\n",
    "    z_coords = [coord[2] for coord in atom_coords]\n",
    "    center_x = sum(x_coords) / len(x_coords)\n",
    "    center_y = sum(y_coords) / len(y_coords)\n",
    "    center_z = sum(z_coords) / len(z_coords)\n",
    "    return [center_x, center_y, center_z]"
   ]
  },
  {
   "cell_type": "code",
   "execution_count": 82,
   "id": "095d4db3",
   "metadata": {},
   "outputs": [
    {
     "name": "stdout",
     "output_type": "stream",
     "text": [
      "Geometric center: (10.270508859536989, 2.4234355613117953, -3.625699998706996)\n"
     ]
    },
    {
     "name": "stderr",
     "output_type": "stream",
     "text": [
      "/home/users/tlmenest/anaconda3/envs/chem/lib/python3.10/site-packages/Bio/PDB/PDBParser.py:388: PDBConstructionWarning: Ignoring unrecognized record 'END' at line 5543\n",
      "  warnings.warn(\n"
     ]
    }
   ],
   "source": [
    "pdb_filename = 'data/angptl7_fixed.pdbqt'\n",
    "center = calculate_geometric_center(pdb_filename)\n",
    "print('Geometric center:', center)"
   ]
  },
  {
   "cell_type": "markdown",
   "id": "93cda4af",
   "metadata": {},
   "source": [
    "# Docking"
   ]
  },
  {
   "cell_type": "code",
   "execution_count": 23,
   "id": "10a767b3",
   "metadata": {},
   "outputs": [],
   "source": [
    "v = Vina(sf_name='vina')\n",
    "\n",
    "v.set_receptor('data/angptl7_fixed.pdbqt')\n",
    "v.set_ligand_from_string(pdbqt_string)"
   ]
  },
  {
   "cell_type": "code",
   "execution_count": 25,
   "id": "226a7ed2",
   "metadata": {},
   "outputs": [
    {
     "name": "stderr",
     "output_type": "stream",
     "text": [
      "WARNING: Search space volume is greater than 27000 Angstrom^3 (See FAQ)\n"
     ]
    },
    {
     "name": "stdout",
     "output_type": "stream",
     "text": [
      "Computing Vina grid ... done.\n",
      "Score before minimization: 230.296 (kcal/mol)\n",
      "Score after minimization : 0.000 (kcal/mol)\n",
      "Performing local search ... done.\n",
      "Performing docking (random seed: 1591798047) ... \n",
      "0%   10   20   30   40   50   60   70   80   90   100%\n",
      "|----|----|----|----|----|----|----|----|----|----|\n",
      "***************************************************\n",
      "CPU times: user 1min 28s, sys: 3.39 s, total: 1min 31s\n",
      "Wall time: 40.6 s\n"
     ]
    }
   ],
   "source": [
    "%%time\n",
    "\n",
    "v.compute_vina_maps(center=calculate_geometric_center('data/angptl7_fixed.pdbqt'), box_size=[100, 100, 100])\n",
    "\n",
    "# Score the current pose\n",
    "energy = v.score()\n",
    "print('Score before minimization: %.3f (kcal/mol)' % energy[0])\n",
    "\n",
    "# Minimized locally the current pose\n",
    "energy_minimized = v.optimize()\n",
    "print('Score after minimization : %.3f (kcal/mol)' % energy_minimized[0])\n",
    "v.write_pose('1iep_ligand_minimized.pdbqt', overwrite=True)\n",
    "\n",
    "# Dock the ligand\n",
    "v.dock(exhaustiveness=32, n_poses=20)\n",
    "v.write_poses('1iep_ligand_vina_out.pdbqt', n_poses=5, overwrite=True)"
   ]
  },
  {
   "cell_type": "markdown",
   "id": "00a58c77",
   "metadata": {},
   "source": [
    "# Parse output"
   ]
  },
  {
   "cell_type": "code",
   "execution_count": 26,
   "id": "7d5c5592",
   "metadata": {},
   "outputs": [],
   "source": [
    "def parse_vina_output(vina_output_file):\n",
    "\n",
    "    with open(vina_output_file, 'r') as file:\n",
    "        lines = file.readlines()\n",
    "    poses = []\n",
    "    current_pose = []\n",
    "    binding_affinity = None\n",
    "    for line in lines:\n",
    "        if line.startswith('REMARK VINA RESULT:'):\n",
    "            # Extract binding affinity\n",
    "            parts = line.split()\n",
    "            binding_affinity = float(parts[3])  # Binding affinity is the 4th item\n",
    "        elif line.startswith('MODEL'):\n",
    "            current_pose = []\n",
    "        elif line.startswith('ENDMDL'):\n",
    "            poses.append((binding_affinity, current_pose))\n",
    "        else:\n",
    "            current_pose.append(line)\n",
    "    return poses"
   ]
  },
  {
   "cell_type": "code",
   "execution_count": 27,
   "id": "2d14fbd4",
   "metadata": {},
   "outputs": [
    {
     "name": "stdout",
     "output_type": "stream",
     "text": [
      "Pose 1: Binding Affinity = -5.496 kcal/mol, Number of Atoms = 36\n",
      "Pose 2: Binding Affinity = -5.297 kcal/mol, Number of Atoms = 36\n",
      "Pose 3: Binding Affinity = -5.105 kcal/mol, Number of Atoms = 36\n",
      "Pose 4: Binding Affinity = -5.083 kcal/mol, Number of Atoms = 36\n",
      "Pose 5: Binding Affinity = -5.053 kcal/mol, Number of Atoms = 36\n"
     ]
    }
   ],
   "source": [
    "vina_output_file = '1iep_ligand_vina_out.pdbqt'\n",
    "poses = parse_vina_output(vina_output_file)\n",
    "\n",
    "for i, (binding_affinity, pose) in enumerate(poses):\n",
    "    print(f\"Pose {i + 1}: Binding Affinity = {binding_affinity} kcal/mol, Number of Atoms = {len(pose)}\")"
   ]
  },
  {
   "cell_type": "markdown",
   "id": "8365b5b5-d622-4c8c-ab0d-b87153b3d85c",
   "metadata": {},
   "source": [
    "# Visualize output"
   ]
  },
  {
   "cell_type": "code",
   "execution_count": 32,
   "id": "5c27f59d",
   "metadata": {},
   "outputs": [],
   "source": [
    "def convert_pdbqt_to_pdb(pdbqt_file, pdb_file):\n",
    "    # Load the molecule from the PDBQT file\n",
    "    for mol in openbabel.readfile('pdbqt', pdbqt_file):\n",
    "        # Write the molecule to a PDB file\n",
    "        mol.write(format='pdb', filename=pdb_file, overwrite=True)\n",
    "\n",
    "#convert_pdbqt_to_pdb('1iep_ligand_vina_out.pdbqt', '1iep_ligand_vina_out.pdb')"
   ]
  }
 ],
 "metadata": {
  "kernelspec": {
   "display_name": "chem",
   "language": "python",
   "name": "chem"
  },
  "language_info": {
   "codemirror_mode": {
    "name": "ipython",
    "version": 3
   },
   "file_extension": ".py",
   "mimetype": "text/x-python",
   "name": "python",
   "nbconvert_exporter": "python",
   "pygments_lexer": "ipython3",
   "version": "3.10.13"
  }
 },
 "nbformat": 4,
 "nbformat_minor": 5
}
