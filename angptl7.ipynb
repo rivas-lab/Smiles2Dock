{
 "cells": [
  {
   "cell_type": "code",
   "execution_count": null,
   "id": "fef33279",
   "metadata": {},
   "outputs": [],
   "source": [
    "angptl7 = pd.read_table('data/angptl7.txt')"
   ]
  },
  {
   "cell_type": "code",
   "execution_count": null,
   "id": "2230f7e5",
   "metadata": {},
   "outputs": [],
   "source": [
    "atoms = []\n",
    "\n",
    "with open('data/angptl7.txt', 'r') as angptl7_file:\n",
    "    \n",
    "    for line in angptl7_file:\n",
    "        if line.startswith('ATOM'):\n",
    "            print(line)\n",
    "            atoms.append(line.split())"
   ]
  },
  {
   "cell_type": "code",
   "execution_count": null,
   "id": "6e43e5ac",
   "metadata": {},
   "outputs": [],
   "source": [
    "angptl7 = pd.DataFrame(atoms, columns=['atom', 'atom_number', 'atom_type', 'residue_name', 'chain_id', 'residue_number', 'x', 'y', 'z', 'occupancy', 'temp_factor', 'element'])"
   ]
  }
 ],
 "metadata": {
  "kernelspec": {
   "display_name": "chem",
   "language": "python",
   "name": "chem"
  },
  "language_info": {
   "codemirror_mode": {
    "name": "ipython",
    "version": 3
   },
   "file_extension": ".py",
   "mimetype": "text/x-python",
   "name": "python",
   "nbconvert_exporter": "python",
   "pygments_lexer": "ipython3",
   "version": "3.10.13"
  }
 },
 "nbformat": 4,
 "nbformat_minor": 5
}
