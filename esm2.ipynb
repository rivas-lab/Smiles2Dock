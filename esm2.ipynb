{
 "cells": [
  {
   "cell_type": "code",
   "execution_count": 26,
   "id": "d30b70f1-8de1-4a86-ba1d-6ef88ac76505",
   "metadata": {},
   "outputs": [],
   "source": [
    "from os import environ, listdir, path\n",
    "\n",
    "environ[\"HF_HOME\"] = \"/oak/stanford/groups/mrivas/projects/multiomics/tlmenest/LLMChemCreator/huggingface\""
   ]
  },
  {
   "cell_type": "code",
   "execution_count": 42,
   "id": "63a01374-38d8-4888-af2c-fdf9b4b80694",
   "metadata": {},
   "outputs": [],
   "source": [
    "from transformers import AutoModel, AutoTokenizer\n",
    "from torch        import no_grad, save, load\n",
    "from Bio.PDB      import PDBParser\n",
    "from Bio.SeqUtils import seq1"
   ]
  },
  {
   "cell_type": "code",
   "execution_count": 4,
   "id": "72c54bef-d65d-47af-95a5-3a747923cb09",
   "metadata": {},
   "outputs": [
    {
     "data": {
      "application/vnd.jupyter.widget-view+json": {
       "model_id": "5806a39d14d74eeb828a5dc4af95dd56",
       "version_major": 2,
       "version_minor": 0
      },
      "text/plain": [
       "tokenizer_config.json:   0%|          | 0.00/95.0 [00:00<?, ?B/s]"
      ]
     },
     "metadata": {},
     "output_type": "display_data"
    },
    {
     "data": {
      "application/vnd.jupyter.widget-view+json": {
       "model_id": "c9d89c8ae47d4f3dae637e4e67164617",
       "version_major": 2,
       "version_minor": 0
      },
      "text/plain": [
       "vocab.txt:   0%|          | 0.00/93.0 [00:00<?, ?B/s]"
      ]
     },
     "metadata": {},
     "output_type": "display_data"
    },
    {
     "data": {
      "application/vnd.jupyter.widget-view+json": {
       "model_id": "12f0c34c6d1943beb9fd033fd2bb179d",
       "version_major": 2,
       "version_minor": 0
      },
      "text/plain": [
       "special_tokens_map.json:   0%|          | 0.00/125 [00:00<?, ?B/s]"
      ]
     },
     "metadata": {},
     "output_type": "display_data"
    },
    {
     "data": {
      "application/vnd.jupyter.widget-view+json": {
       "model_id": "f1d00376df2e4d638827b421cd4ba4ad",
       "version_major": 2,
       "version_minor": 0
      },
      "text/plain": [
       "config.json:   0%|          | 0.00/724 [00:00<?, ?B/s]"
      ]
     },
     "metadata": {},
     "output_type": "display_data"
    },
    {
     "data": {
      "application/vnd.jupyter.widget-view+json": {
       "model_id": "6ce97f362a0a4747b8773d4a1c9ce98c",
       "version_major": 2,
       "version_minor": 0
      },
      "text/plain": [
       "model.safetensors:   0%|          | 0.00/2.61G [00:00<?, ?B/s]"
      ]
     },
     "metadata": {},
     "output_type": "display_data"
    },
    {
     "name": "stderr",
     "output_type": "stream",
     "text": [
      "Some weights of EsmModel were not initialized from the model checkpoint at facebook/esm2_t33_650M_UR50D and are newly initialized: ['esm.pooler.dense.bias', 'esm.pooler.dense.weight']\n",
      "You should probably TRAIN this model on a down-stream task to be able to use it for predictions and inference.\n"
     ]
    }
   ],
   "source": [
    "model_name = \"facebook/esm2_t33_650M_UR50D\"\n",
    "tokenizer = AutoTokenizer.from_pretrained(model_name)\n",
    "model = AutoModel.from_pretrained(model_name)"
   ]
  },
  {
   "cell_type": "code",
   "execution_count": 11,
   "id": "84b6b047-5fc5-4331-ad26-356cdc74cd51",
   "metadata": {},
   "outputs": [],
   "source": [
    "# Define your PDB ID and file path\n",
    "PDB_ID = \"YOUR_PDB_ID_HERE\" \n",
    "PDB_file_path = \"proteins/apol1.pdb\"\n",
    "pdbparser = PDBParser()\n",
    "\n",
    "structure = pdbparser.get_structure(PDB_ID, PDB_file_path)\n",
    "chains = {chain.id: seq1(''.join(residue.resname.strip() for residue in chain if residue.id[0] == \" \" and residue.resname.isalpha()), undef_code=\"X\") for chain in structure.get_chains()}"
   ]
  },
  {
   "cell_type": "code",
   "execution_count": 15,
   "id": "7253c1cc-bd8d-434a-b865-7d6ad4b92576",
   "metadata": {},
   "outputs": [],
   "source": [
    "chain = chains['A']"
   ]
  },
  {
   "cell_type": "code",
   "execution_count": 7,
   "id": "02acf3ce-3d57-41ba-9d86-97b8f14e26e4",
   "metadata": {},
   "outputs": [],
   "source": [
    "pdb_file_path = \"proteins/apol1.pdb\"\n",
    "sequence = extract_sequence_from_pdb(pdb_file_path)"
   ]
  },
  {
   "cell_type": "code",
   "execution_count": 16,
   "id": "1abab374-0b7c-4695-b0f5-2621e2bedbd0",
   "metadata": {},
   "outputs": [],
   "source": [
    "inputs = tokenizer(chain, return_tensors=\"pt\")\n",
    "\n",
    "with no_grad():\n",
    "    outputs = model(**inputs)\n",
    "    embeddings = outputs.last_hidden_state  "
   ]
  },
  {
   "cell_type": "code",
   "execution_count": 18,
   "id": "05821cfc-93c0-4518-b059-94a67be98b06",
   "metadata": {},
   "outputs": [
    {
     "data": {
      "text/plain": [
       "torch.Size([1, 400, 1280])"
      ]
     },
     "execution_count": 18,
     "metadata": {},
     "output_type": "execute_result"
    }
   ],
   "source": [
    "embeddings.shape"
   ]
  },
  {
   "cell_type": "code",
   "execution_count": 19,
   "id": "0fbd20bc-4a87-4ab6-b20d-da6a54897dc7",
   "metadata": {},
   "outputs": [
    {
     "data": {
      "text/plain": [
       "tensor([[[ 0.0294, -0.0003,  0.0925,  ..., -0.1806,  0.1562, -0.0058],\n",
       "         [-0.1946,  0.1738, -0.0511,  ...,  0.1141, -0.0597, -0.0010],\n",
       "         [-0.1579,  0.0912,  0.0042,  ...,  0.2209,  0.1433,  0.0470],\n",
       "         ...,\n",
       "         [-0.0617, -0.0068, -0.0116,  ...,  0.1978,  0.0556,  0.0226],\n",
       "         [ 0.0489,  0.1007,  0.0295,  ...,  0.0370,  0.2020, -0.1112],\n",
       "         [-0.0444,  0.0979,  0.0806,  ..., -0.1284,  0.2634, -0.0867]]])"
      ]
     },
     "execution_count": 19,
     "metadata": {},
     "output_type": "execute_result"
    }
   ],
   "source": [
    "embeddings"
   ]
  },
  {
   "cell_type": "code",
   "execution_count": 22,
   "id": "5c286dc6-955e-4bec-b7b1-1cfff0f5e9a3",
   "metadata": {},
   "outputs": [],
   "source": [
    "protein_files = listdir('proteins')\n",
    "pdb_files     = [file for file in protein_files if file.endswith('.pdb')]"
   ]
  },
  {
   "cell_type": "code",
   "execution_count": 31,
   "id": "75c97b52-e0c4-4e09-9483-13d2b99ead05",
   "metadata": {},
   "outputs": [],
   "source": [
    "pdbparser = PDBParser()\n",
    "chains    = []\n",
    "\n",
    "for file in pdb_files:\n",
    "\n",
    "    PDB_file_path = path.join('proteins', file)\n",
    "    structure = pdbparser.get_structure(PDB_ID, PDB_file_path)\n",
    "    output    = {chain.id: seq1(''.join(residue.resname.strip() for residue in chain if residue.id[0] == \" \" and residue.resname.isalpha()), undef_code=\"X\") for chain in structure.get_chains()}\n",
    "\n",
    "    chain = output['A']\n",
    "    (chains.append(chain))"
   ]
  },
  {
   "cell_type": "code",
   "execution_count": 46,
   "id": "bb1f86b3-8ac2-4a77-bf3c-62137e1a5d58",
   "metadata": {},
   "outputs": [
    {
     "name": "stdout",
     "output_type": "stream",
     "text": [
      "398\n",
      "1988\n",
      "634\n",
      "1261\n"
     ]
    }
   ],
   "source": [
    "for chain in chains:\n",
    "\n",
    "    print(len(chain))"
   ]
  },
  {
   "cell_type": "code",
   "execution_count": 33,
   "id": "a1d78e00-2b91-4019-b58b-7aafb4e7620d",
   "metadata": {},
   "outputs": [
    {
     "name": "stdout",
     "output_type": "stream",
     "text": [
      "CPU times: user 1min 37s, sys: 27 s, total: 2min 4s\n",
      "Wall time: 2min 6s\n"
     ]
    }
   ],
   "source": [
    "%%time\n",
    "\n",
    "embeddings = []\n",
    "\n",
    "for chain in chains:\n",
    "\n",
    "    inputs = tokenizer(chain, return_tensors=\"pt\")\n",
    "\n",
    "    with no_grad():\n",
    "        outputs = model(**inputs)\n",
    "        embedding = outputs.last_hidden_state  \n",
    "        print('Done')\n",
    "    embeddings.append(embedding)"
   ]
  },
  {
   "cell_type": "code",
   "execution_count": 34,
   "id": "4be9a22c-ee08-40d2-ab31-d0eac73f0dd9",
   "metadata": {},
   "outputs": [
    {
     "data": {
      "text/plain": [
       "[tensor([[[ 0.0294, -0.0003,  0.0925,  ..., -0.1806,  0.1562, -0.0058],\n",
       "          [-0.1946,  0.1738, -0.0511,  ...,  0.1141, -0.0597, -0.0010],\n",
       "          [-0.1579,  0.0912,  0.0042,  ...,  0.2209,  0.1433,  0.0470],\n",
       "          ...,\n",
       "          [-0.0617, -0.0068, -0.0116,  ...,  0.1978,  0.0556,  0.0226],\n",
       "          [ 0.0489,  0.1007,  0.0295,  ...,  0.0370,  0.2020, -0.1112],\n",
       "          [-0.0444,  0.0979,  0.0806,  ..., -0.1284,  0.2634, -0.0867]]]),\n",
       " tensor([[[ 0.0599,  0.0072,  0.0975,  ..., -0.2745,  0.1429,  0.0200],\n",
       "          [ 0.0078, -0.1106, -0.0695,  ...,  0.0252, -0.1169,  0.1243],\n",
       "          [-0.0485,  0.1942, -0.0411,  ...,  0.0175, -0.0770,  0.1818],\n",
       "          ...,\n",
       "          [ 0.0195,  0.1008, -0.1493,  ..., -0.0391, -0.2148, -0.0202],\n",
       "          [ 0.0948,  0.0608, -0.1663,  ..., -0.0629, -0.1604,  0.1686],\n",
       "          [ 0.0228, -0.0361,  0.0298,  ..., -0.1657,  0.1408,  0.0105]]]),\n",
       " tensor([[[ 0.0334,  0.0339,  0.0485,  ..., -0.3165,  0.1312,  0.0030],\n",
       "          [-0.0057,  0.0353, -0.0629,  ...,  0.0288, -0.1571,  0.1101],\n",
       "          [-0.0623,  0.2978, -0.0168,  ..., -0.1938,  0.0351,  0.0283],\n",
       "          ...,\n",
       "          [-0.0371,  0.0907,  0.0846,  ..., -0.1012, -0.0543,  0.0371],\n",
       "          [ 0.0893,  0.0778, -0.0139,  ..., -0.1739,  0.1669, -0.0878],\n",
       "          [ 0.0390,  0.0302,  0.0980,  ..., -0.2666,  0.2432, -0.0565]]]),\n",
       " tensor([[[ 0.0625,  0.0199,  0.1027,  ..., -0.2617,  0.1639,  0.0574],\n",
       "          [ 0.0525,  0.0299,  0.0395,  ..., -0.0518,  0.0268,  0.2345],\n",
       "          [ 0.0113,  0.1642,  0.2079,  ...,  0.0750,  0.0367,  0.0931],\n",
       "          ...,\n",
       "          [ 0.0781,  0.0251, -0.0159,  ..., -0.2556,  0.3640,  0.1938],\n",
       "          [ 0.0821,  0.1412,  0.0818,  ..., -0.0658, -0.0306,  0.1603],\n",
       "          [ 0.0352,  0.0321,  0.0686,  ..., -0.2174,  0.2230,  0.0455]]])]"
      ]
     },
     "execution_count": 34,
     "metadata": {},
     "output_type": "execute_result"
    }
   ],
   "source": [
    "embeddings"
   ]
  },
  {
   "cell_type": "code",
   "execution_count": 35,
   "id": "eff95ba1-842a-47ff-9597-0ca7f14c8162",
   "metadata": {},
   "outputs": [
    {
     "data": {
      "text/plain": [
       "'apol1.'"
      ]
     },
     "execution_count": 35,
     "metadata": {},
     "output_type": "execute_result"
    }
   ],
   "source": [
    "pdb_files[0][:-3]"
   ]
  },
  {
   "cell_type": "code",
   "execution_count": 41,
   "id": "98d9d7e4-94fd-46ea-ab8d-6b5a70add19e",
   "metadata": {},
   "outputs": [],
   "source": [
    "for i in range(len(pdb_files)):\n",
    "\n",
    "    save_path = path.join('proteins/embeddings/', (pdb_files[i][:-4] + '_embedding.pt'))\n",
    "    save(embeddings[i], save_path)"
   ]
  },
  {
   "cell_type": "code",
   "execution_count": 44,
   "id": "02dbacde-cd2c-44a4-9fbb-8c00d2137fe3",
   "metadata": {},
   "outputs": [
    {
     "data": {
      "text/plain": [
       "torch.Size([1, 400, 1280])"
      ]
     },
     "execution_count": 44,
     "metadata": {},
     "output_type": "execute_result"
    }
   ],
   "source": [
    "loaded_tensor = load('proteins/embeddings/apol1_embedding.pt')\n",
    "\n",
    "# Display the loaded tensor\n",
    "loaded_tensor.shape"
   ]
  },
  {
   "cell_type": "code",
   "execution_count": null,
   "id": "27e6052c-c039-474f-8c1b-8e0d1fcbbe81",
   "metadata": {},
   "outputs": [],
   "source": [
    "def canonicalize(s):\n",
    "    return Chem.MolToSmiles(Chem.MolFromSmiles(s), canonical=True, isomericSmiles=False)\n",
    "\n",
    "def batch_split(data, batch_size=64):\n",
    "    for i in range(0, len(data), batch_size):\n",
    "        yield data[i:i+batch_size]\n",
    "\n",
    "def embed_and_save(model, df, tokenizer, batch_size=64):\n",
    "    model.eval()\n",
    "    for batch in batch_split(df, batch_size):\n",
    "        smiles = batch['canonical_smiles'].apply(canonicalize)\n",
    "        batch_enc = tokenizer.batch_encode_plus(smiles.tolist(), padding=True, add_special_tokens=True, return_tensors='pt')\n",
    "        idx, mask = batch_enc['input_ids'], batch_enc['attention_mask']\n",
    "        with torch.no_grad():\n",
    "            token_embeddings = model(idx, attention_mask=mask).last_hidden_state\n",
    "        input_mask_expanded = mask.unsqueeze(-1).expand(token_embeddings.size()).float()\n",
    "        sum_embeddings = torch.sum(token_embeddings * input_mask_expanded, 1)\n",
    "        sum_mask = torch.clamp(input_mask_expanded.sum(1), min=1e-9)\n",
    "        embeddings = sum_embeddings / sum_mask\n",
    "        for i, chembl_id in enumerate(batch['chembl_id']):\n",
    "            # Ensure the directory exists\n",
    "            os.makedirs('ligands', exist_ok=True)\n",
    "            # Save each tensor\n",
    "            torch.save(embeddings[i].cpu(), f'ligands/{chembl_id}.pt')"
   ]
  },
  {
   "cell_type": "code",
   "execution_count": 6,
   "id": "24f9a26d-58a3-4e19-8b25-ece4e62ce822",
   "metadata": {},
   "outputs": [],
   "source": [
    "from os import listdir"
   ]
  },
  {
   "cell_type": "code",
   "execution_count": 7,
   "id": "361f9807-371d-4544-ab02-4750e617e875",
   "metadata": {},
   "outputs": [],
   "source": [
    "embs = listdir('ligands/')"
   ]
  },
  {
   "cell_type": "code",
   "execution_count": 9,
   "id": "bdfb1f1a-ba6c-447d-b09e-486bbff15ab1",
   "metadata": {},
   "outputs": [
    {
     "data": {
      "text/plain": [
       "869510"
      ]
     },
     "execution_count": 9,
     "metadata": {},
     "output_type": "execute_result"
    }
   ],
   "source": [
    "len(embs)"
   ]
  },
  {
   "cell_type": "code",
   "execution_count": null,
   "id": "53bec11e-1af9-4403-a44d-20964aef3827",
   "metadata": {},
   "outputs": [],
   "source": []
  }
 ],
 "metadata": {
  "kernelspec": {
   "display_name": "docking",
   "language": "python",
   "name": "docking"
  },
  "language_info": {
   "codemirror_mode": {
    "name": "ipython",
    "version": 3
   },
   "file_extension": ".py",
   "mimetype": "text/x-python",
   "name": "python",
   "nbconvert_exporter": "python",
   "pygments_lexer": "ipython3",
   "version": "3.10.13"
  }
 },
 "nbformat": 4,
 "nbformat_minor": 5
}
