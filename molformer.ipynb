{
 "cells": [
  {
   "cell_type": "code",
   "execution_count": 62,
   "id": "b4808f97-9b76-4181-9a0d-c31d3eb7778f",
   "metadata": {},
   "outputs": [],
   "source": [
    "from argparse import Namespace\n",
    "from os import path\n",
    "from time import time\n",
    "from fast_transformers.masking import LengthMask as LM\n",
    "from rdkit import Chem\n",
    "from transformers import BertTokenizer\n",
    "\n",
    "import pandas as pd\n",
    "import regex as re\n",
    "import torch\n",
    "import yaml\n",
    "\n",
    "from molformer.train_pubchem_light import LightningModule"
   ]
  },
  {
   "cell_type": "code",
   "execution_count": 63,
   "id": "11f3cad0-7e7b-4890-9d62-2c30ef9e2bb3",
   "metadata": {},
   "outputs": [],
   "source": [
    "with open('./molformer/hparams.yaml', 'r') as f:\n",
    "    config = Namespace(**yaml.safe_load(f))"
   ]
  },
  {
   "cell_type": "code",
   "execution_count": 64,
   "id": "67cb7edd-7320-49dc-9ca0-2ffcc5e1d1f5",
   "metadata": {},
   "outputs": [],
   "source": [
    "tokenizer = MolTranBertTokenizer('./molformer/bert_vocab.txt')"
   ]
  },
  {
   "cell_type": "code",
   "execution_count": 65,
   "id": "2061cc00-f172-4100-8cfc-3ed9db08a047",
   "metadata": {},
   "outputs": [
    {
     "name": "stderr",
     "output_type": "stream",
     "text": [
      "/oak/stanford/groups/mrivas/projects/multiomics/tlmenest/conda/envs/docking/lib/python3.10/site-packages/pytorch_lightning/utilities/migration/migration.py:207: You have multiple `ModelCheckpoint` callback states in this checkpoint, but we found state keys that would end up colliding with each other after an upgrade, which means we can't differentiate which of your checkpoint callbacks needs which states. At least one of your `ModelCheckpoint` callbacks will not be able to reload the state.\n",
      "Lightning automatically upgraded your loaded checkpoint from v1.1.5 to v2.2.0.post0. To apply the upgrade to your files permanently, run `python -m pytorch_lightning.utilities.upgrade_checkpoint molformer/checkpoints/N-Step-Checkpoint_3_30000.ckpt`\n"
     ]
    },
    {
     "name": "stdout",
     "output_type": "stream",
     "text": [
      "Hi\n",
      "Using Rotation Embedding\n",
      "Using Rotation Embedding\n",
      "Using Rotation Embedding\n",
      "Using Rotation Embedding\n",
      "Using Rotation Embedding\n",
      "Using Rotation Embedding\n",
      "Using Rotation Embedding\n",
      "Using Rotation Embedding\n",
      "Using Rotation Embedding\n",
      "Using Rotation Embedding\n",
      "Using Rotation Embedding\n",
      "Using Rotation Embedding\n"
     ]
    }
   ],
   "source": [
    "ckpt = './molformer/checkpoints/N-Step-Checkpoint_3_30000.ckpt'\n",
    "lm = LightningModule.load_from_checkpoint(ckpt, config=config, vocab=tokenizer.vocab)"
   ]
  },
  {
   "cell_type": "code",
   "execution_count": 66,
   "id": "766fcaff-437c-413f-b7b6-431a709c9c85",
   "metadata": {},
   "outputs": [],
   "source": [
    "def batch_split(data, batch_size=64):\n",
    "    i = 0\n",
    "    while i < len(data):\n",
    "        yield data[i:min(i+batch_size, len(data))]\n",
    "        i += batch_size\n",
    "\n",
    "def embed(model, smiles, tokenizer, batch_size=64):\n",
    "    model.eval()\n",
    "    embeddings = []\n",
    "    for batch in batch_split(smiles, batch_size=batch_size):\n",
    "        batch_enc = tokenizer.batch_encode_plus(batch, padding=True, add_special_tokens=True)\n",
    "        idx, mask = torch.tensor(batch_enc['input_ids']), torch.tensor(batch_enc['attention_mask'])\n",
    "        with torch.no_grad():\n",
    "            token_embeddings = model.blocks(model.tok_emb(idx), length_mask=LM(mask.sum(-1)))\n",
    "        # average pooling over tokens\n",
    "        input_mask_expanded = mask.unsqueeze(-1).expand(token_embeddings.size()).float()\n",
    "        sum_embeddings = torch.sum(token_embeddings * input_mask_expanded, 1)\n",
    "        sum_mask = torch.clamp(input_mask_expanded.sum(1), min=1e-9)\n",
    "        embedding = sum_embeddings / sum_mask\n",
    "        embeddings.append(embedding.detach().cpu())\n",
    "    return torch.cat(embeddings)"
   ]
  },
  {
   "cell_type": "code",
   "execution_count": null,
   "id": "e177a7e8-7abd-47a7-a166-08ac10607757",
   "metadata": {},
   "outputs": [],
   "source": []
  },
  {
   "cell_type": "code",
   "execution_count": 67,
   "id": "b16d29a6-89ac-4018-a33f-8276ff2eb479",
   "metadata": {},
   "outputs": [],
   "source": [
    "filepath        = 'data/chembl_33_chemreps.txt'  \n",
    "data = pd.read_table(filepath, sep='\\t')"
   ]
  },
  {
   "cell_type": "code",
   "execution_count": 68,
   "id": "9972d127-2da8-4a2f-8aee-86687fcb1978",
   "metadata": {},
   "outputs": [
    {
     "data": {
      "text/html": [
       "<div>\n",
       "<style scoped>\n",
       "    .dataframe tbody tr th:only-of-type {\n",
       "        vertical-align: middle;\n",
       "    }\n",
       "\n",
       "    .dataframe tbody tr th {\n",
       "        vertical-align: top;\n",
       "    }\n",
       "\n",
       "    .dataframe thead th {\n",
       "        text-align: right;\n",
       "    }\n",
       "</style>\n",
       "<table border=\"1\" class=\"dataframe\">\n",
       "  <thead>\n",
       "    <tr style=\"text-align: right;\">\n",
       "      <th></th>\n",
       "      <th>chembl_id</th>\n",
       "      <th>canonical_smiles</th>\n",
       "      <th>standard_inchi</th>\n",
       "      <th>standard_inchi_key</th>\n",
       "    </tr>\n",
       "  </thead>\n",
       "  <tbody>\n",
       "    <tr>\n",
       "      <th>0</th>\n",
       "      <td>CHEMBL153534</td>\n",
       "      <td>Cc1cc(-c2csc(N=C(N)N)n2)cn1C</td>\n",
       "      <td>InChI=1S/C10H13N5S/c1-6-3-7(4-15(6)2)8-5-16-10...</td>\n",
       "      <td>MFRNFCWYPYSFQQ-UHFFFAOYSA-N</td>\n",
       "    </tr>\n",
       "    <tr>\n",
       "      <th>1</th>\n",
       "      <td>CHEMBL440060</td>\n",
       "      <td>CC[C@H](C)[C@H](NC(=O)[C@H](CC(C)C)NC(=O)[C@@H...</td>\n",
       "      <td>InChI=1S/C123H212N44O34S/c1-19-63(12)96(164-11...</td>\n",
       "      <td>RSEQNZQKBMRQNM-VRGFNVLHSA-N</td>\n",
       "    </tr>\n",
       "    <tr>\n",
       "      <th>2</th>\n",
       "      <td>CHEMBL440245</td>\n",
       "      <td>CCCC[C@@H]1NC(=O)[C@@H](NC(=O)[C@H](CC(C)C)NC(...</td>\n",
       "      <td>InChI=1S/C160H268N50O41/c1-23-27-41-95-134(228...</td>\n",
       "      <td>FTKBTEIKPOYCEX-OZSLQWTKSA-N</td>\n",
       "    </tr>\n",
       "    <tr>\n",
       "      <th>3</th>\n",
       "      <td>CHEMBL440249</td>\n",
       "      <td>CC(C)C[C@@H]1NC(=O)CNC(=O)[C@H](c2ccc(O)cc2)NC...</td>\n",
       "      <td>InChI=1S/C124H154ClN21O39/c1-57(2)48-81-112(17...</td>\n",
       "      <td>UYSXXKGACMHPIM-KFGDMSGDSA-N</td>\n",
       "    </tr>\n",
       "    <tr>\n",
       "      <th>4</th>\n",
       "      <td>CHEMBL405398</td>\n",
       "      <td>Brc1cccc(Nc2ncnc3ccncc23)c1NCCN1CCOCC1</td>\n",
       "      <td>InChI=1S/C19H21BrN6O/c20-15-2-1-3-17(18(15)22-...</td>\n",
       "      <td>VDSXZXJEWIWBCG-UHFFFAOYSA-N</td>\n",
       "    </tr>\n",
       "    <tr>\n",
       "      <th>...</th>\n",
       "      <td>...</td>\n",
       "      <td>...</td>\n",
       "      <td>...</td>\n",
       "      <td>...</td>\n",
       "    </tr>\n",
       "    <tr>\n",
       "      <th>2372669</th>\n",
       "      <td>CHEMBL4298696</td>\n",
       "      <td>CCCCCCCCCCCCCCCCCCPCCCCCCCCCCCCCC.F[PH](F)(F)(...</td>\n",
       "      <td>InChI=1S/C32H67P.F6HP/c1-3-5-7-9-11-13-15-17-1...</td>\n",
       "      <td>ZAKUDCIPPLAGQL-UHFFFAOYSA-N</td>\n",
       "    </tr>\n",
       "    <tr>\n",
       "      <th>2372670</th>\n",
       "      <td>CHEMBL4298698</td>\n",
       "      <td>C[n+]1cn([C@@H]2O[C@H](CO[P@@](=O)(S)OP(=O)([O...</td>\n",
       "      <td>InChI=1S/C11H18N5O13P3S/c1-15-3-16(8-5(15)9(19...</td>\n",
       "      <td>OTIKKVINVWNBOQ-LDJOHHLFSA-N</td>\n",
       "    </tr>\n",
       "    <tr>\n",
       "      <th>2372671</th>\n",
       "      <td>CHEMBL4298702</td>\n",
       "      <td>c1ccc(C2CC(C3CC(c4ccccc4)OC(c4ccccc4)C3)CC(c3c...</td>\n",
       "      <td>InChI=1S/C34H34O2/c1-5-13-25(14-6-1)31-21-29(2...</td>\n",
       "      <td>NZIGZXNUFVMHNV-UHFFFAOYSA-N</td>\n",
       "    </tr>\n",
       "    <tr>\n",
       "      <th>2372672</th>\n",
       "      <td>CHEMBL4298703</td>\n",
       "      <td>CSCC[C@H](NC=O)C(=O)N[C@@H](CCCNC(=N)NS(=O)(=O...</td>\n",
       "      <td>InChI=1S/C78H107N18O21PS2/c1-43-44(2)65(45(3)5...</td>\n",
       "      <td>IIHLOGWTFCCTPB-WTIPWMETSA-N</td>\n",
       "    </tr>\n",
       "    <tr>\n",
       "      <th>2372673</th>\n",
       "      <td>CHEMBL4298680</td>\n",
       "      <td>C[n+]1cn([C@@H]2O[C@H](CO[P@@](=O)(S)OP(=O)(O)...</td>\n",
       "      <td>InChI=1S/C11H20N5O13P3S/c1-15-3-16(8-5(15)9(19...</td>\n",
       "      <td>GDVFMBGQRVGNSJ-KOCQAOCKSA-N</td>\n",
       "    </tr>\n",
       "  </tbody>\n",
       "</table>\n",
       "<p>2372674 rows × 4 columns</p>\n",
       "</div>"
      ],
      "text/plain": [
       "             chembl_id                                   canonical_smiles  \\\n",
       "0         CHEMBL153534                       Cc1cc(-c2csc(N=C(N)N)n2)cn1C   \n",
       "1         CHEMBL440060  CC[C@H](C)[C@H](NC(=O)[C@H](CC(C)C)NC(=O)[C@@H...   \n",
       "2         CHEMBL440245  CCCC[C@@H]1NC(=O)[C@@H](NC(=O)[C@H](CC(C)C)NC(...   \n",
       "3         CHEMBL440249  CC(C)C[C@@H]1NC(=O)CNC(=O)[C@H](c2ccc(O)cc2)NC...   \n",
       "4         CHEMBL405398             Brc1cccc(Nc2ncnc3ccncc23)c1NCCN1CCOCC1   \n",
       "...                ...                                                ...   \n",
       "2372669  CHEMBL4298696  CCCCCCCCCCCCCCCCCCPCCCCCCCCCCCCCC.F[PH](F)(F)(...   \n",
       "2372670  CHEMBL4298698  C[n+]1cn([C@@H]2O[C@H](CO[P@@](=O)(S)OP(=O)([O...   \n",
       "2372671  CHEMBL4298702  c1ccc(C2CC(C3CC(c4ccccc4)OC(c4ccccc4)C3)CC(c3c...   \n",
       "2372672  CHEMBL4298703  CSCC[C@H](NC=O)C(=O)N[C@@H](CCCNC(=N)NS(=O)(=O...   \n",
       "2372673  CHEMBL4298680  C[n+]1cn([C@@H]2O[C@H](CO[P@@](=O)(S)OP(=O)(O)...   \n",
       "\n",
       "                                            standard_inchi  \\\n",
       "0        InChI=1S/C10H13N5S/c1-6-3-7(4-15(6)2)8-5-16-10...   \n",
       "1        InChI=1S/C123H212N44O34S/c1-19-63(12)96(164-11...   \n",
       "2        InChI=1S/C160H268N50O41/c1-23-27-41-95-134(228...   \n",
       "3        InChI=1S/C124H154ClN21O39/c1-57(2)48-81-112(17...   \n",
       "4        InChI=1S/C19H21BrN6O/c20-15-2-1-3-17(18(15)22-...   \n",
       "...                                                    ...   \n",
       "2372669  InChI=1S/C32H67P.F6HP/c1-3-5-7-9-11-13-15-17-1...   \n",
       "2372670  InChI=1S/C11H18N5O13P3S/c1-15-3-16(8-5(15)9(19...   \n",
       "2372671  InChI=1S/C34H34O2/c1-5-13-25(14-6-1)31-21-29(2...   \n",
       "2372672  InChI=1S/C78H107N18O21PS2/c1-43-44(2)65(45(3)5...   \n",
       "2372673  InChI=1S/C11H20N5O13P3S/c1-15-3-16(8-5(15)9(19...   \n",
       "\n",
       "                  standard_inchi_key  \n",
       "0        MFRNFCWYPYSFQQ-UHFFFAOYSA-N  \n",
       "1        RSEQNZQKBMRQNM-VRGFNVLHSA-N  \n",
       "2        FTKBTEIKPOYCEX-OZSLQWTKSA-N  \n",
       "3        UYSXXKGACMHPIM-KFGDMSGDSA-N  \n",
       "4        VDSXZXJEWIWBCG-UHFFFAOYSA-N  \n",
       "...                              ...  \n",
       "2372669  ZAKUDCIPPLAGQL-UHFFFAOYSA-N  \n",
       "2372670  OTIKKVINVWNBOQ-LDJOHHLFSA-N  \n",
       "2372671  NZIGZXNUFVMHNV-UHFFFAOYSA-N  \n",
       "2372672  IIHLOGWTFCCTPB-WTIPWMETSA-N  \n",
       "2372673  GDVFMBGQRVGNSJ-KOCQAOCKSA-N  \n",
       "\n",
       "[2372674 rows x 4 columns]"
      ]
     },
     "execution_count": 68,
     "metadata": {},
     "output_type": "execute_result"
    }
   ],
   "source": [
    "data"
   ]
  },
  {
   "cell_type": "code",
   "execution_count": 69,
   "id": "9cfe58fc-6eff-4704-a710-4052f1e6f5cd",
   "metadata": {},
   "outputs": [],
   "source": [
    "df = data.head(10)"
   ]
  },
  {
   "cell_type": "code",
   "execution_count": 70,
   "id": "4d97a2c2-0c8f-4233-bc95-9c8a1d119aad",
   "metadata": {},
   "outputs": [],
   "source": [
    "smiles = data.canonical_smiles.tolist()"
   ]
  },
  {
   "cell_type": "code",
   "execution_count": 71,
   "id": "2d8a9afe-fce9-4066-8b8f-fbf3ded86ef6",
   "metadata": {},
   "outputs": [],
   "source": [
    "smiles = smiles[:10]"
   ]
  },
  {
   "cell_type": "code",
   "execution_count": 72,
   "id": "82e1ede5-25e8-424d-bc44-0e6ac12a2418",
   "metadata": {},
   "outputs": [
    {
     "data": {
      "text/plain": [
       "10"
      ]
     },
     "execution_count": 72,
     "metadata": {},
     "output_type": "execute_result"
    }
   ],
   "source": [
    "len(smiles)"
   ]
  },
  {
   "cell_type": "code",
   "execution_count": 73,
   "id": "04274eb6-ded8-400f-b8a2-1478ce56a636",
   "metadata": {},
   "outputs": [],
   "source": [
    "def canonicalize(s):\n",
    "    return Chem.MolToSmiles(Chem.MolFromSmiles(s), canonical=True, isomericSmiles=False)\n",
    "\n",
    "smiles = df.canonical_smiles.apply(canonicalize)\n",
    "X = embed(lm, smiles, tokenizer).numpy()"
   ]
  },
  {
   "cell_type": "code",
   "execution_count": 74,
   "id": "7dc88983-8ef1-4e6e-b38d-eb8bac0a27f1",
   "metadata": {},
   "outputs": [
    {
     "data": {
      "text/plain": [
       "(10, 768)"
      ]
     },
     "execution_count": 74,
     "metadata": {},
     "output_type": "execute_result"
    }
   ],
   "source": [
    "X.shape"
   ]
  },
  {
   "cell_type": "code",
   "execution_count": 75,
   "id": "3b0c4d85-45ab-4fb8-89da-107a9c9d24a4",
   "metadata": {},
   "outputs": [
    {
     "name": "stdout",
     "output_type": "stream",
     "text": [
      "Precision: float32\n"
     ]
    }
   ],
   "source": [
    "precision = X.dtype\n",
    "\n",
    "print(\"Precision:\", precision)"
   ]
  },
  {
   "cell_type": "markdown",
   "id": "6fb86f57-e911-4d94-98a2-8a38604795a2",
   "metadata": {},
   "source": [
    "# Do it for all of CHEMBL"
   ]
  },
  {
   "cell_type": "code",
   "execution_count": 82,
   "id": "eff3fc1f-9446-4e6e-8133-0f52cffb867b",
   "metadata": {},
   "outputs": [],
   "source": [
    "def batch_split(data, batch_size=64):\n",
    "    \"\"\"\n",
    "    Generator to yield batches of data.\n",
    "    \"\"\"\n",
    "    i = 0\n",
    "    while i < len(data):\n",
    "        yield data[i:min(i+batch_size, len(data))]\n",
    "        i += batch_size\n",
    "\n",
    "def canonicalize(s):\n",
    "    \"\"\"\n",
    "    Canonicalize SMILES strings.\n",
    "    \"\"\"\n",
    "    return Chem.MolToSmiles(Chem.MolFromSmiles(s), canonical=True, isomericSmiles=False)\n",
    "\n",
    "def embed(model, smiles, tokenizer, batch_size=64):\n",
    "    model.eval()\n",
    "    embeddings = []\n",
    "    for batch in batch_split(smiles, batch_size=batch_size):\n",
    "        start_time = time() \n",
    "        \n",
    "        batch_enc = tokenizer.batch_encode_plus(batch, padding=True, add_special_tokens=True, return_tensors=\"pt\")\n",
    "        idx, mask = batch_enc['input_ids'], batch_enc['attention_mask']\n",
    "        with torch.no_grad():\n",
    "            token_embeddings = model.blocks(model.tok_emb(idx), length_mask=LM(mask.sum(-1)))\n",
    "        embeddings.append(token_embeddings.detach().cpu())\n",
    "\n",
    "        end_time = time() \n",
    "        print(f\"Processed batch in {end_time - start_time:.2f} seconds.\") \n",
    "\n",
    "    return torch.cat(embeddings)"
   ]
  },
  {
   "cell_type": "code",
   "execution_count": 83,
   "id": "f5e9eb08-82df-4255-bbef-c0b50174a9bd",
   "metadata": {},
   "outputs": [],
   "source": [
    "def process_and_save(chembl_df, model, tokenizer, batch_size=64):\n",
    "    for batch in batch_split(chembl_df, batch_size=batch_size):\n",
    "        chembl_ids  = batch['chembl_id'].tolist()\n",
    "        smiles_list = batch['canonical_smiles'].apply(canonicalize).tolist()\n",
    "        embeddings = embed(model, smiles_list, tokenizer, batch_size=len(smiles_list))\n",
    "\n",
    "        for chembl_id, embedding in zip(chembl_ids, embeddings):\n",
    "            torch.save(embedding, path.join('ligands', f\"{chembl_id}.pt\"))\n",
    "\n",
    "        return embeddings"
   ]
  },
  {
   "cell_type": "code",
   "execution_count": 84,
   "id": "447c2bfe-d62c-49ba-9151-c14835f4d9d5",
   "metadata": {},
   "outputs": [
    {
     "name": "stdout",
     "output_type": "stream",
     "text": [
      "Processed batch in 51.42 seconds.\n"
     ]
    }
   ],
   "source": [
    "embs = process_and_save(data, lm, tokenizer, batch_size=64)"
   ]
  },
  {
   "cell_type": "code",
   "execution_count": 87,
   "id": "144b5b49-a636-4885-8303-746959b2bf90",
   "metadata": {},
   "outputs": [
    {
     "data": {
      "text/html": [
       "<div>\n",
       "<style scoped>\n",
       "    .dataframe tbody tr th:only-of-type {\n",
       "        vertical-align: middle;\n",
       "    }\n",
       "\n",
       "    .dataframe tbody tr th {\n",
       "        vertical-align: top;\n",
       "    }\n",
       "\n",
       "    .dataframe thead th {\n",
       "        text-align: right;\n",
       "    }\n",
       "</style>\n",
       "<table border=\"1\" class=\"dataframe\">\n",
       "  <thead>\n",
       "    <tr style=\"text-align: right;\">\n",
       "      <th></th>\n",
       "      <th>chembl_id</th>\n",
       "      <th>canonical_smiles</th>\n",
       "      <th>standard_inchi</th>\n",
       "      <th>standard_inchi_key</th>\n",
       "    </tr>\n",
       "  </thead>\n",
       "  <tbody>\n",
       "    <tr>\n",
       "      <th>0</th>\n",
       "      <td>CHEMBL153534</td>\n",
       "      <td>Cc1cc(-c2csc(N=C(N)N)n2)cn1C</td>\n",
       "      <td>InChI=1S/C10H13N5S/c1-6-3-7(4-15(6)2)8-5-16-10...</td>\n",
       "      <td>MFRNFCWYPYSFQQ-UHFFFAOYSA-N</td>\n",
       "    </tr>\n",
       "    <tr>\n",
       "      <th>1</th>\n",
       "      <td>CHEMBL440060</td>\n",
       "      <td>CC[C@H](C)[C@H](NC(=O)[C@H](CC(C)C)NC(=O)[C@@H...</td>\n",
       "      <td>InChI=1S/C123H212N44O34S/c1-19-63(12)96(164-11...</td>\n",
       "      <td>RSEQNZQKBMRQNM-VRGFNVLHSA-N</td>\n",
       "    </tr>\n",
       "    <tr>\n",
       "      <th>2</th>\n",
       "      <td>CHEMBL440245</td>\n",
       "      <td>CCCC[C@@H]1NC(=O)[C@@H](NC(=O)[C@H](CC(C)C)NC(...</td>\n",
       "      <td>InChI=1S/C160H268N50O41/c1-23-27-41-95-134(228...</td>\n",
       "      <td>FTKBTEIKPOYCEX-OZSLQWTKSA-N</td>\n",
       "    </tr>\n",
       "    <tr>\n",
       "      <th>3</th>\n",
       "      <td>CHEMBL440249</td>\n",
       "      <td>CC(C)C[C@@H]1NC(=O)CNC(=O)[C@H](c2ccc(O)cc2)NC...</td>\n",
       "      <td>InChI=1S/C124H154ClN21O39/c1-57(2)48-81-112(17...</td>\n",
       "      <td>UYSXXKGACMHPIM-KFGDMSGDSA-N</td>\n",
       "    </tr>\n",
       "    <tr>\n",
       "      <th>4</th>\n",
       "      <td>CHEMBL405398</td>\n",
       "      <td>Brc1cccc(Nc2ncnc3ccncc23)c1NCCN1CCOCC1</td>\n",
       "      <td>InChI=1S/C19H21BrN6O/c20-15-2-1-3-17(18(15)22-...</td>\n",
       "      <td>VDSXZXJEWIWBCG-UHFFFAOYSA-N</td>\n",
       "    </tr>\n",
       "    <tr>\n",
       "      <th>...</th>\n",
       "      <td>...</td>\n",
       "      <td>...</td>\n",
       "      <td>...</td>\n",
       "      <td>...</td>\n",
       "    </tr>\n",
       "    <tr>\n",
       "      <th>2372669</th>\n",
       "      <td>CHEMBL4298696</td>\n",
       "      <td>CCCCCCCCCCCCCCCCCCPCCCCCCCCCCCCCC.F[PH](F)(F)(...</td>\n",
       "      <td>InChI=1S/C32H67P.F6HP/c1-3-5-7-9-11-13-15-17-1...</td>\n",
       "      <td>ZAKUDCIPPLAGQL-UHFFFAOYSA-N</td>\n",
       "    </tr>\n",
       "    <tr>\n",
       "      <th>2372670</th>\n",
       "      <td>CHEMBL4298698</td>\n",
       "      <td>C[n+]1cn([C@@H]2O[C@H](CO[P@@](=O)(S)OP(=O)([O...</td>\n",
       "      <td>InChI=1S/C11H18N5O13P3S/c1-15-3-16(8-5(15)9(19...</td>\n",
       "      <td>OTIKKVINVWNBOQ-LDJOHHLFSA-N</td>\n",
       "    </tr>\n",
       "    <tr>\n",
       "      <th>2372671</th>\n",
       "      <td>CHEMBL4298702</td>\n",
       "      <td>c1ccc(C2CC(C3CC(c4ccccc4)OC(c4ccccc4)C3)CC(c3c...</td>\n",
       "      <td>InChI=1S/C34H34O2/c1-5-13-25(14-6-1)31-21-29(2...</td>\n",
       "      <td>NZIGZXNUFVMHNV-UHFFFAOYSA-N</td>\n",
       "    </tr>\n",
       "    <tr>\n",
       "      <th>2372672</th>\n",
       "      <td>CHEMBL4298703</td>\n",
       "      <td>CSCC[C@H](NC=O)C(=O)N[C@@H](CCCNC(=N)NS(=O)(=O...</td>\n",
       "      <td>InChI=1S/C78H107N18O21PS2/c1-43-44(2)65(45(3)5...</td>\n",
       "      <td>IIHLOGWTFCCTPB-WTIPWMETSA-N</td>\n",
       "    </tr>\n",
       "    <tr>\n",
       "      <th>2372673</th>\n",
       "      <td>CHEMBL4298680</td>\n",
       "      <td>C[n+]1cn([C@@H]2O[C@H](CO[P@@](=O)(S)OP(=O)(O)...</td>\n",
       "      <td>InChI=1S/C11H20N5O13P3S/c1-15-3-16(8-5(15)9(19...</td>\n",
       "      <td>GDVFMBGQRVGNSJ-KOCQAOCKSA-N</td>\n",
       "    </tr>\n",
       "  </tbody>\n",
       "</table>\n",
       "<p>2372674 rows × 4 columns</p>\n",
       "</div>"
      ],
      "text/plain": [
       "             chembl_id                                   canonical_smiles  \\\n",
       "0         CHEMBL153534                       Cc1cc(-c2csc(N=C(N)N)n2)cn1C   \n",
       "1         CHEMBL440060  CC[C@H](C)[C@H](NC(=O)[C@H](CC(C)C)NC(=O)[C@@H...   \n",
       "2         CHEMBL440245  CCCC[C@@H]1NC(=O)[C@@H](NC(=O)[C@H](CC(C)C)NC(...   \n",
       "3         CHEMBL440249  CC(C)C[C@@H]1NC(=O)CNC(=O)[C@H](c2ccc(O)cc2)NC...   \n",
       "4         CHEMBL405398             Brc1cccc(Nc2ncnc3ccncc23)c1NCCN1CCOCC1   \n",
       "...                ...                                                ...   \n",
       "2372669  CHEMBL4298696  CCCCCCCCCCCCCCCCCCPCCCCCCCCCCCCCC.F[PH](F)(F)(...   \n",
       "2372670  CHEMBL4298698  C[n+]1cn([C@@H]2O[C@H](CO[P@@](=O)(S)OP(=O)([O...   \n",
       "2372671  CHEMBL4298702  c1ccc(C2CC(C3CC(c4ccccc4)OC(c4ccccc4)C3)CC(c3c...   \n",
       "2372672  CHEMBL4298703  CSCC[C@H](NC=O)C(=O)N[C@@H](CCCNC(=N)NS(=O)(=O...   \n",
       "2372673  CHEMBL4298680  C[n+]1cn([C@@H]2O[C@H](CO[P@@](=O)(S)OP(=O)(O)...   \n",
       "\n",
       "                                            standard_inchi  \\\n",
       "0        InChI=1S/C10H13N5S/c1-6-3-7(4-15(6)2)8-5-16-10...   \n",
       "1        InChI=1S/C123H212N44O34S/c1-19-63(12)96(164-11...   \n",
       "2        InChI=1S/C160H268N50O41/c1-23-27-41-95-134(228...   \n",
       "3        InChI=1S/C124H154ClN21O39/c1-57(2)48-81-112(17...   \n",
       "4        InChI=1S/C19H21BrN6O/c20-15-2-1-3-17(18(15)22-...   \n",
       "...                                                    ...   \n",
       "2372669  InChI=1S/C32H67P.F6HP/c1-3-5-7-9-11-13-15-17-1...   \n",
       "2372670  InChI=1S/C11H18N5O13P3S/c1-15-3-16(8-5(15)9(19...   \n",
       "2372671  InChI=1S/C34H34O2/c1-5-13-25(14-6-1)31-21-29(2...   \n",
       "2372672  InChI=1S/C78H107N18O21PS2/c1-43-44(2)65(45(3)5...   \n",
       "2372673  InChI=1S/C11H20N5O13P3S/c1-15-3-16(8-5(15)9(19...   \n",
       "\n",
       "                  standard_inchi_key  \n",
       "0        MFRNFCWYPYSFQQ-UHFFFAOYSA-N  \n",
       "1        RSEQNZQKBMRQNM-VRGFNVLHSA-N  \n",
       "2        FTKBTEIKPOYCEX-OZSLQWTKSA-N  \n",
       "3        UYSXXKGACMHPIM-KFGDMSGDSA-N  \n",
       "4        VDSXZXJEWIWBCG-UHFFFAOYSA-N  \n",
       "...                              ...  \n",
       "2372669  ZAKUDCIPPLAGQL-UHFFFAOYSA-N  \n",
       "2372670  OTIKKVINVWNBOQ-LDJOHHLFSA-N  \n",
       "2372671  NZIGZXNUFVMHNV-UHFFFAOYSA-N  \n",
       "2372672  IIHLOGWTFCCTPB-WTIPWMETSA-N  \n",
       "2372673  GDVFMBGQRVGNSJ-KOCQAOCKSA-N  \n",
       "\n",
       "[2372674 rows x 4 columns]"
      ]
     },
     "execution_count": 87,
     "metadata": {},
     "output_type": "execute_result"
    }
   ],
   "source": [
    "data"
   ]
  },
  {
   "cell_type": "code",
   "execution_count": 86,
   "id": "32f97231-25fa-45f0-ad1d-1c33a17edfc6",
   "metadata": {},
   "outputs": [
    {
     "data": {
      "text/plain": [
       "torch.Size([64, 456, 768])"
      ]
     },
     "execution_count": 86,
     "metadata": {},
     "output_type": "execute_result"
    }
   ],
   "source": [
    "embs.shape"
   ]
  },
  {
   "cell_type": "code",
   "execution_count": 46,
   "id": "30d385dd-b294-4f8a-bc9b-15b49232cc39",
   "metadata": {},
   "outputs": [
    {
     "data": {
      "text/plain": [
       "torch.Size([64, 768])"
      ]
     },
     "execution_count": 46,
     "metadata": {},
     "output_type": "execute_result"
    }
   ],
   "source": [
    "embs.shape"
   ]
  },
  {
   "cell_type": "code",
   "execution_count": null,
   "id": "5c61f984-39fe-405a-b4f3-2ac021b5508c",
   "metadata": {},
   "outputs": [],
   "source": [
    "device = torch.device(\"cuda\" if torch.cuda.is_available() else \"cpu\")\n",
    "model = lm.to(device)  \n",
    "embeddings = embed(model, smiles, tokenizer, device)"
   ]
  }
 ],
 "metadata": {
  "kernelspec": {
   "display_name": "docking",
   "language": "python",
   "name": "docking"
  },
  "language_info": {
   "codemirror_mode": {
    "name": "ipython",
    "version": 3
   },
   "file_extension": ".py",
   "mimetype": "text/x-python",
   "name": "python",
   "nbconvert_exporter": "python",
   "pygments_lexer": "ipython3",
   "version": "3.10.13"
  }
 },
 "nbformat": 4,
 "nbformat_minor": 5
}
