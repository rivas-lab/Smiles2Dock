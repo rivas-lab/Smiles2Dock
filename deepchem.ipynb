{
 "cells": [
  {
   "cell_type": "code",
   "execution_count": 1,
   "id": "bf73a041-a157-4273-8749-3078d90de757",
   "metadata": {},
   "outputs": [
    {
     "name": "stderr",
     "output_type": "stream",
     "text": [
      "/tmp/ipykernel_3095/126294797.py:3: DeprecationWarning: \n",
      "Pyarrow will become a required dependency of pandas in the next major release of pandas (pandas 3.0),\n",
      "(to allow more performant data types, such as the Arrow string type, and better interoperability with other libraries)\n",
      "but was not found to be installed on your system.\n",
      "If this would cause problems for you,\n",
      "please provide us feedback at https://github.com/pandas-dev/pandas/issues/54466\n",
      "        \n",
      "  import pandas as pd\n",
      "Skipped loading some Tensorflow models, missing a dependency. No module named 'tensorflow'\n",
      "Skipped loading some PyTorch models, missing a dependency. No module named 'torch'\n",
      "Skipped loading modules with pytorch-geometric dependency, missing a dependency. No module named 'torch'\n",
      "Skipped loading modules with pytorch-lightning dependency, missing a dependency. No module named 'torch'\n",
      "Skipped loading some Jax models, missing a dependency. No module named 'jax'\n"
     ]
    },
    {
     "data": {
      "application/vnd.jupyter.widget-view+json": {
       "model_id": "5467e3be9fa14ac4bee15884c5eb020a",
       "version_major": 2,
       "version_minor": 0
      },
      "text/plain": []
     },
     "metadata": {},
     "output_type": "display_data"
    }
   ],
   "source": [
    "import os\n",
    "import numpy as np\n",
    "import pandas as pd\n",
    "import deepchem as dc\n",
    "import tempfile\n",
    "import os\n",
    "import nglview\n",
    "import locale\n",
    "\n",
    "from deepchem.utils import download_url, load_from_disk\n",
    "from deepchem.utils.vina_utils import prepare_inputs\n",
    "from openmm.app import PDBFile\n",
    "from pdbfixer import PDBFixer\n",
    "from rdkit import Chem\n",
    "from rdkit.Chem import AllChem"
   ]
  },
  {
   "cell_type": "code",
   "execution_count": 2,
   "id": "917585a7-5aa2-4fe8-8b9b-9855bdfdb90a",
   "metadata": {},
   "outputs": [],
   "source": [
    "data_dir = dc.utils.get_data_dir()\n",
    "dataset_file = os.path.join(data_dir, \"pdbbind_core_df.csv.gz\")\n",
    "\n",
    "if not os.path.exists(dataset_file):\n",
    "    print('File does not exist. Downloading file...')\n",
    "    download_url(\"https://s3-us-west-1.amazonaws.com/deepchem.io/datasets/pdbbind_core_df.csv.gz\")\n",
    "    print('File downloaded...')\n",
    "\n",
    "raw_dataset = load_from_disk(dataset_file)\n",
    "raw_dataset = raw_dataset[['pdb_id', 'smiles', 'label']]"
   ]
  },
  {
   "cell_type": "code",
   "execution_count": 3,
   "id": "ffaf087c-ee48-4b80-8897-687c1208a21e",
   "metadata": {},
   "outputs": [
    {
     "data": {
      "text/html": [
       "<div>\n",
       "<style scoped>\n",
       "    .dataframe tbody tr th:only-of-type {\n",
       "        vertical-align: middle;\n",
       "    }\n",
       "\n",
       "    .dataframe tbody tr th {\n",
       "        vertical-align: top;\n",
       "    }\n",
       "\n",
       "    .dataframe thead th {\n",
       "        text-align: right;\n",
       "    }\n",
       "</style>\n",
       "<table border=\"1\" class=\"dataframe\">\n",
       "  <thead>\n",
       "    <tr style=\"text-align: right;\">\n",
       "      <th></th>\n",
       "      <th>pdb_id</th>\n",
       "      <th>smiles</th>\n",
       "      <th>label</th>\n",
       "    </tr>\n",
       "  </thead>\n",
       "  <tbody>\n",
       "    <tr>\n",
       "      <th>0</th>\n",
       "      <td>2d3u</td>\n",
       "      <td>CC1CCCCC1S(O)(O)NC1CC(C2CCC(CN)CC2)SC1C(O)O</td>\n",
       "      <td>6.92</td>\n",
       "    </tr>\n",
       "    <tr>\n",
       "      <th>1</th>\n",
       "      <td>3cyx</td>\n",
       "      <td>CC(C)(C)NC(O)C1CC2CCCCC2C[NH+]1CC(O)C(CC1CCCCC...</td>\n",
       "      <td>8.00</td>\n",
       "    </tr>\n",
       "    <tr>\n",
       "      <th>2</th>\n",
       "      <td>3uo4</td>\n",
       "      <td>OC(O)C1CCC(NC2NCCC(NC3CCCCC3C3CCCCC3)N2)CC1</td>\n",
       "      <td>6.52</td>\n",
       "    </tr>\n",
       "    <tr>\n",
       "      <th>3</th>\n",
       "      <td>1p1q</td>\n",
       "      <td>CC1ONC(O)C1CC([NH3+])C(O)O</td>\n",
       "      <td>4.89</td>\n",
       "    </tr>\n",
       "    <tr>\n",
       "      <th>4</th>\n",
       "      <td>3ag9</td>\n",
       "      <td>NC(O)C(CCC[NH2+]C([NH3+])[NH3+])NC(O)C(CCC[NH2...</td>\n",
       "      <td>8.05</td>\n",
       "    </tr>\n",
       "    <tr>\n",
       "      <th>...</th>\n",
       "      <td>...</td>\n",
       "      <td>...</td>\n",
       "      <td>...</td>\n",
       "    </tr>\n",
       "    <tr>\n",
       "      <th>188</th>\n",
       "      <td>2x0y</td>\n",
       "      <td>CN1C2NCN(CC(O)CO)C2C(O)N(C)C1O</td>\n",
       "      <td>4.60</td>\n",
       "    </tr>\n",
       "    <tr>\n",
       "      <th>189</th>\n",
       "      <td>3uex</td>\n",
       "      <td>CCCCCCCCCCCCCCCCCC(O)O</td>\n",
       "      <td>6.92</td>\n",
       "    </tr>\n",
       "    <tr>\n",
       "      <th>190</th>\n",
       "      <td>2pq9</td>\n",
       "      <td>[O-]C(O)C1CC(OC(O[PH](O)(O)O)(C([O-])O)C(F)F)C...</td>\n",
       "      <td>8.11</td>\n",
       "    </tr>\n",
       "    <tr>\n",
       "      <th>191</th>\n",
       "      <td>1u1b</td>\n",
       "      <td>CC1CN(C2CC(O[PH](O)(O)O[PH](O)(O)OCC3OC(N4CNC5...</td>\n",
       "      <td>7.80</td>\n",
       "    </tr>\n",
       "    <tr>\n",
       "      <th>192</th>\n",
       "      <td>4gqq</td>\n",
       "      <td>CCOC(O)CCC1CCC(O)C(O)C1</td>\n",
       "      <td>2.89</td>\n",
       "    </tr>\n",
       "  </tbody>\n",
       "</table>\n",
       "<p>193 rows × 3 columns</p>\n",
       "</div>"
      ],
      "text/plain": [
       "    pdb_id                                             smiles  label\n",
       "0     2d3u        CC1CCCCC1S(O)(O)NC1CC(C2CCC(CN)CC2)SC1C(O)O   6.92\n",
       "1     3cyx  CC(C)(C)NC(O)C1CC2CCCCC2C[NH+]1CC(O)C(CC1CCCCC...   8.00\n",
       "2     3uo4        OC(O)C1CCC(NC2NCCC(NC3CCCCC3C3CCCCC3)N2)CC1   6.52\n",
       "3     1p1q                         CC1ONC(O)C1CC([NH3+])C(O)O   4.89\n",
       "4     3ag9  NC(O)C(CCC[NH2+]C([NH3+])[NH3+])NC(O)C(CCC[NH2...   8.05\n",
       "..     ...                                                ...    ...\n",
       "188   2x0y                     CN1C2NCN(CC(O)CO)C2C(O)N(C)C1O   4.60\n",
       "189   3uex                             CCCCCCCCCCCCCCCCCC(O)O   6.92\n",
       "190   2pq9  [O-]C(O)C1CC(OC(O[PH](O)(O)O)(C([O-])O)C(F)F)C...   8.11\n",
       "191   1u1b  CC1CN(C2CC(O[PH](O)(O)O[PH](O)(O)OCC3OC(N4CNC5...   7.80\n",
       "192   4gqq                            CCOC(O)CCC1CCC(O)C(O)C1   2.89\n",
       "\n",
       "[193 rows x 3 columns]"
      ]
     },
     "execution_count": 3,
     "metadata": {},
     "output_type": "execute_result"
    }
   ],
   "source": [
    "raw_dataset"
   ]
  },
  {
   "cell_type": "code",
   "execution_count": 4,
   "id": "57a106fa-b925-4ac5-b247-92e4cebe55d2",
   "metadata": {},
   "outputs": [],
   "source": [
    "ligands10 = raw_dataset['smiles'].iloc[0:10]\n",
    "generated_pdb = 'data/angptl7.pdb'\n",
    "generated_pdb_no_extension = os.path.splitext(os.path.basename(generated_pdb))[0]"
   ]
  },
  {
   "cell_type": "code",
   "execution_count": 5,
   "id": "633c6fc5-a3ef-4cbf-8ab4-0907110fa53e",
   "metadata": {},
   "outputs": [],
   "source": [
    "count=0\n",
    "scores_matrix =[]\n",
    "complex_mol_array = []"
   ]
  },
  {
   "cell_type": "code",
   "execution_count": 6,
   "id": "5097c83d-4dfe-4f5d-b272-dbcb3752e13e",
   "metadata": {},
   "outputs": [
    {
     "name": "stderr",
     "output_type": "stream",
     "text": [
      "<timed exec>:11: DeprecationWarning: Call to deprecated function prepare_inputs. Please use the corresponding function in deepchem.utils.docking_utils.\n",
      "Warning: importing 'simtk.openmm' is deprecated.  Import 'openmm' instead.\n"
     ]
    },
    {
     "name": "stdout",
     "output_type": "stream",
     "text": [
      "Docking ligand 0\n"
     ]
    },
    {
     "name": "stderr",
     "output_type": "stream",
     "text": [
      "[16:30:57] UFFTYPER: Unrecognized atom type: S_5+4 (7)\n"
     ]
    },
    {
     "name": "stdout",
     "output_type": "stream",
     "text": [
      "data/angptl7.pdb 2815\n",
      "Computing Vina grid ... done.\n",
      "Performing docking (random seed: -1806717614) ... \n",
      "0%   10   20   30   40   50   60   70   80   90   100%\n",
      "|----|----|----|----|----|----|----|----|----|----|\n",
      "***************************************************\n"
     ]
    },
    {
     "name": "stderr",
     "output_type": "stream",
     "text": [
      "WARNING: At low exhaustiveness, it may be impossible to utilize all CPUs.\n"
     ]
    },
    {
     "name": "stdout",
     "output_type": "stream",
     "text": [
      "\n",
      "mode |   affinity | dist from best mode\n",
      "     | (kcal/mol) | rmsd l.b.| rmsd u.b.\n",
      "-----+------------+----------+----------\n",
      "   1       -5.145          0          0\n",
      "   2       -4.952      3.487      7.944\n",
      "   3       -4.907      1.626      2.536\n",
      "   4       -4.703      2.778      4.374\n",
      "   5       -4.681      4.825      8.374\n",
      "   6       -4.679      2.135      3.862\n",
      "   7       -4.505      3.217      8.068\n",
      "   8       -2.349      3.283      7.626\n",
      "   9        4.614      2.913      8.412\n",
      "Computing Vina grid ... done.\n",
      "Performing docking (random seed: -1806717614) ... "
     ]
    },
    {
     "name": "stderr",
     "output_type": "stream",
     "text": [
      "WARNING: At low exhaustiveness, it may be impossible to utilize all CPUs.\n"
     ]
    },
    {
     "name": "stdout",
     "output_type": "stream",
     "text": [
      "\n",
      "0%   10   20   30   40   50   60   70   80   90   100%\n",
      "|----|----|----|----|----|----|----|----|----|----|\n",
      "***************************************************\n",
      "\n",
      "mode |   affinity | dist from best mode\n",
      "     | (kcal/mol) | rmsd l.b.| rmsd u.b.\n",
      "-----+------------+----------+----------\n",
      "   1       -2.542          0          0\n",
      "   2       -1.459      1.985      3.059\n",
      "   3      -0.9452      3.412      6.686\n",
      "   4       -0.363      3.815      5.244\n",
      "   5       0.1563      2.687      4.155\n",
      "   6        2.036      3.521       4.48\n",
      "   7        10.07      2.234      2.928\n",
      "   8        38.89      3.659      5.756\n",
      "   9        128.5      2.276      4.121\n",
      "Computing Vina grid ... done.\n",
      "Performing docking (random seed: -1806717614) ... \n",
      "0%   10   20   30   40   50   60   70   80   90   100%\n",
      "|----|----|----|----|----|----|----|----|----|----|\n",
      "***************************************************\n",
      "[-5.145, -4.952, -4.907, -4.703, -4.681, -4.679, -4.505, -2.349, -2.542, -1.459, -0.945, -0.363, 0.156, -4.241, -4.046, -4.044, -3.985, -3.961, -3.883, -3.839, -3.786, -3.783]\n",
      "CPU times: user 18min 47s, sys: 5 s, total: 18min 52s\n",
      "Wall time: 6min 40s\n"
     ]
    },
    {
     "name": "stderr",
     "output_type": "stream",
     "text": [
      "WARNING: At low exhaustiveness, it may be impossible to utilize all CPUs.\n"
     ]
    }
   ],
   "source": [
    "%%time\n",
    "\n",
    "for count in range(0, 1):\n",
    "    \n",
    "  print(\"Docking ligand \"+str(count))\n",
    "  ligand = ligands10[count]\n",
    "  p, m = None, None\n",
    "\n",
    "  vpg = dc.dock.pose_generation.VinaPoseGenerator(\n",
    "      pocket_finder=dc.dock.binding_pocket.ConvexHullPocketFinder())\n",
    "\n",
    "  try:\n",
    "      p, m = prepare_inputs('%s' % (generated_pdb), ligand)\n",
    "  except:\n",
    "      print('%s failed PDB fixing' % (generated_pdb))\n",
    "\n",
    "  if p and m:  # protein and molecule are readable by RDKit\n",
    "      print(generated_pdb, p.GetNumAtoms())\n",
    "      Chem.rdmolfiles.MolToPDBFile(p, 'data/protein_%s.pdb' % (count))\n",
    "      Chem.rdmolfiles.MolToPDBFile(m, 'data/ligand_%s.pdb' % (count))\n",
    "\n",
    "  complexes, scores = vpg.generate_poses(\n",
    "      molecular_complex=('data/protein_%s.pdb' % (count),'data/ligand_%s.pdb' % (count)), \n",
    "      out_dir='data',generate_scores=True, num_pockets=3)\n",
    "    \n",
    "  complex_mol = Chem.CombineMols(complexes[0][0], complexes[0][1])\n",
    "  complex_mol_array.append(complex_mol)\n",
    "  print(scores)\n",
    "  scores_matrix.append(scores)"
   ]
  },
  {
   "cell_type": "code",
   "execution_count": 7,
   "id": "c5b91239-a9cb-49f7-b49b-4e9fa6d5d728",
   "metadata": {},
   "outputs": [
    {
     "data": {
      "text/plain": [
       "[[-5.145,\n",
       "  -4.952,\n",
       "  -4.907,\n",
       "  -4.703,\n",
       "  -4.681,\n",
       "  -4.679,\n",
       "  -4.505,\n",
       "  -2.349,\n",
       "  -2.542,\n",
       "  -1.459,\n",
       "  -0.945,\n",
       "  -0.363,\n",
       "  0.156,\n",
       "  -4.241,\n",
       "  -4.046,\n",
       "  -4.044,\n",
       "  -3.985,\n",
       "  -3.961,\n",
       "  -3.883,\n",
       "  -3.839,\n",
       "  -3.786,\n",
       "  -3.783]]"
      ]
     },
     "execution_count": 7,
     "metadata": {},
     "output_type": "execute_result"
    }
   ],
   "source": [
    "scores_matrix"
   ]
  },
  {
   "cell_type": "code",
   "execution_count": null,
   "id": "4916405e-bf37-4b59-b96c-b74d12daaf91",
   "metadata": {},
   "outputs": [],
   "source": [
    "import nglview\n"
   ]
  },
  {
   "cell_type": "code",
   "execution_count": null,
   "id": "a81b2dfc-d2ec-46ec-88b1-42fe5e6bf4ec",
   "metadata": {},
   "outputs": [],
   "source": [
    "v = nglview.show_rdkit(complex_mol_array[2])\n",
    "display(v)"
   ]
  },
  {
   "cell_type": "code",
   "execution_count": null,
   "id": "4e808f1a-88e0-41ad-8854-956046edb7e9",
   "metadata": {},
   "outputs": [],
   "source": []
  }
 ],
 "metadata": {
  "kernelspec": {
   "display_name": "chem",
   "language": "python",
   "name": "chem"
  },
  "language_info": {
   "codemirror_mode": {
    "name": "ipython",
    "version": 3
   },
   "file_extension": ".py",
   "mimetype": "text/x-python",
   "name": "python",
   "nbconvert_exporter": "python",
   "pygments_lexer": "ipython3",
   "version": "3.10.13"
  }
 },
 "nbformat": 4,
 "nbformat_minor": 5
}
